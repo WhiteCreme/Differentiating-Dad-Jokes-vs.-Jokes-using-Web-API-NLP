{
 "cells": [
  {
   "cell_type": "code",
   "execution_count": 217,
   "metadata": {},
   "outputs": [],
   "source": [
    "import pandas as pd\n",
    "import datetime as dt\n",
    "import time\n",
    "import requests\n",
    "from sklearn.model_selection import train_test_split, GridSearchCV\n",
    "from sklearn.pipeline import Pipeline\n",
    "from sklearn.linear_model import LogisticRegression\n",
    "from sklearn.feature_extraction.text import CountVectorizer, TfidfVectorizer\n",
    "import nltk\n",
    "from nltk.corpus import stopwords\n",
    "from nltk.stem import WordNetLemmatizer\n",
    "from nltk.tokenize import RegexpTokenizer\n",
    "\n",
    "from bs4 import BeautifulSoup    \n",
    "import regex as re\n",
    "import matplotlib.pyplot as plt"
   ]
  },
  {
   "cell_type": "code",
   "execution_count": 2,
   "metadata": {},
   "outputs": [],
   "source": [
    "#dt.date.fromtimestamp(created)"
   ]
  },
  {
   "cell_type": "code",
   "execution_count": 3,
   "metadata": {},
   "outputs": [],
   "source": [
    "#_timestamp = df[\"created_utc\"].apply(lambda x: dt.date.fromtimestamp(x)) # Ethan (from class challenge Q)"
   ]
  },
  {
   "cell_type": "code",
   "execution_count": 4,
   "metadata": {},
   "outputs": [],
   "source": [
    "#def get_date(created):\n",
    "#        return dt.date.fromtimestamp(created)\n",
    "#_timestamp = df[\"created_utc\"].apply(get_date)"
   ]
  },
  {
   "cell_type": "code",
   "execution_count": 5,
   "metadata": {},
   "outputs": [],
   "source": [
    "def query_pushshift(subreddit, kind='submission', skip=30, times=5, \n",
    "                    subfield = ['title', 'selftext', 'subreddit', 'created_utc', 'author', 'num_comments', \n",
    "                                'score', 'is_self'],\n",
    "                    comfields = ['body', 'score', 'created_utc']):\n",
    "    stem = \"https://api.pushshift.io/reddit/search/{}/?subreddit={}&size=500\".format(kind, subreddit)\n",
    "    mylist = []\n",
    "    for x in range(1, times + 1):\n",
    "        URL = \"{}&after={}d\".format(stem, skip * x)\n",
    "        print(URL)\n",
    "        response = requests.get(URL)\n",
    "        assert response.status_code == 200\n",
    "        mine = response.json()['data']\n",
    "        df = pd.DataFrame.from_dict(mine)\n",
    "        mylist.append(df)\n",
    "        #changed to 3\n",
    "        time.sleep(3)\n",
    "    full = pd.concat(mylist, sort=False)\n",
    "    if kind == \"submission\":\n",
    "        full = full[subfield]\n",
    "        full = full.drop_duplicates()\n",
    "        full = full.loc[full['is_self'] == True]\n",
    "    def get_date(created):\n",
    "        return dt.date.fromtimestamp(created)\n",
    "    _timestamp = full[\"created_utc\"].apply(get_date)\n",
    "    full['timestamp'] = _timestamp\n",
    "    print(full.shape)\n",
    "    return full "
   ]
  },
  {
   "cell_type": "code",
   "execution_count": 6,
   "metadata": {},
   "outputs": [
    {
     "name": "stdout",
     "output_type": "stream",
     "text": [
      "https://api.pushshift.io/reddit/search/submission/?subreddit=dadjokes&size=500&after=30d\n",
      "https://api.pushshift.io/reddit/search/submission/?subreddit=dadjokes&size=500&after=60d\n",
      "https://api.pushshift.io/reddit/search/submission/?subreddit=dadjokes&size=500&after=90d\n",
      "https://api.pushshift.io/reddit/search/submission/?subreddit=dadjokes&size=500&after=120d\n",
      "https://api.pushshift.io/reddit/search/submission/?subreddit=dadjokes&size=500&after=150d\n",
      "(2485, 9)\n"
     ]
    }
   ],
   "source": [
    "sub_1_query = query_pushshift('dadjokes')"
   ]
  },
  {
   "cell_type": "code",
   "execution_count": 7,
   "metadata": {},
   "outputs": [
    {
     "name": "stdout",
     "output_type": "stream",
     "text": [
      "https://api.pushshift.io/reddit/search/submission/?subreddit=jokes&size=500&after=30d\n",
      "https://api.pushshift.io/reddit/search/submission/?subreddit=jokes&size=500&after=60d\n",
      "https://api.pushshift.io/reddit/search/submission/?subreddit=jokes&size=500&after=90d\n",
      "https://api.pushshift.io/reddit/search/submission/?subreddit=jokes&size=500&after=120d\n",
      "https://api.pushshift.io/reddit/search/submission/?subreddit=jokes&size=500&after=150d\n",
      "(2494, 9)\n"
     ]
    }
   ],
   "source": [
    "sub_2_query = query_pushshift('jokes')"
   ]
  },
  {
   "cell_type": "code",
   "execution_count": 8,
   "metadata": {},
   "outputs": [],
   "source": [
    "sub_1_query.to_csv('~/documents/ga/projects/project_3/dadjokes', index=True) #whats index here\n",
    "sub_2_query.to_csv('~/documents/ga/projects/project_3/jokes', index=True) #whats index here\n"
   ]
  },
  {
   "cell_type": "code",
   "execution_count": 92,
   "metadata": {},
   "outputs": [],
   "source": [
    "query_1 = pd.read_csv('~/documents/ga/projects/project_3/dadjokes')\n",
    "query_2 = pd.read_csv('~/documents/ga/projects/project_3/jokes')"
   ]
  },
  {
   "cell_type": "code",
   "execution_count": 93,
   "metadata": {},
   "outputs": [
    {
     "data": {
      "text/html": [
       "<div>\n",
       "<style scoped>\n",
       "    .dataframe tbody tr th:only-of-type {\n",
       "        vertical-align: middle;\n",
       "    }\n",
       "\n",
       "    .dataframe tbody tr th {\n",
       "        vertical-align: top;\n",
       "    }\n",
       "\n",
       "    .dataframe thead th {\n",
       "        text-align: right;\n",
       "    }\n",
       "</style>\n",
       "<table border=\"1\" class=\"dataframe\">\n",
       "  <thead>\n",
       "    <tr style=\"text-align: right;\">\n",
       "      <th></th>\n",
       "      <th>Unnamed: 0</th>\n",
       "      <th>title</th>\n",
       "      <th>selftext</th>\n",
       "      <th>subreddit</th>\n",
       "      <th>created_utc</th>\n",
       "      <th>author</th>\n",
       "      <th>num_comments</th>\n",
       "      <th>score</th>\n",
       "      <th>is_self</th>\n",
       "      <th>timestamp</th>\n",
       "    </tr>\n",
       "  </thead>\n",
       "  <tbody>\n",
       "    <tr>\n",
       "      <th>0</th>\n",
       "      <td>0</td>\n",
       "      <td>What happened to this subreddit?</td>\n",
       "      <td>I haven’t seen any posts on here since last ye...</td>\n",
       "      <td>dadjokes</td>\n",
       "      <td>1577810202</td>\n",
       "      <td>Thatusernameisntgood</td>\n",
       "      <td>3</td>\n",
       "      <td>1</td>\n",
       "      <td>True</td>\n",
       "      <td>2019-12-31</td>\n",
       "    </tr>\n",
       "    <tr>\n",
       "      <th>1</th>\n",
       "      <td>1</td>\n",
       "      <td>Here is my Top 10 list of favorite years from ...</td>\n",
       "      <td>(In chronological order)\\n\\n2010\\n2011\\n2012\\n...</td>\n",
       "      <td>dadjokes</td>\n",
       "      <td>1577810229</td>\n",
       "      <td>drigana</td>\n",
       "      <td>0</td>\n",
       "      <td>1</td>\n",
       "      <td>True</td>\n",
       "      <td>2019-12-31</td>\n",
       "    </tr>\n",
       "    <tr>\n",
       "      <th>2</th>\n",
       "      <td>2</td>\n",
       "      <td>Don't go outside tonight.</td>\n",
       "      <td>If you do you won't be back be for the end of ...</td>\n",
       "      <td>dadjokes</td>\n",
       "      <td>1577810264</td>\n",
       "      <td>tvdb2003</td>\n",
       "      <td>0</td>\n",
       "      <td>1</td>\n",
       "      <td>True</td>\n",
       "      <td>2019-12-31</td>\n",
       "    </tr>\n",
       "    <tr>\n",
       "      <th>3</th>\n",
       "      <td>3</td>\n",
       "      <td>How do you know that someone is a seascape pai...</td>\n",
       "      <td>He uses akrill paint</td>\n",
       "      <td>dadjokes</td>\n",
       "      <td>1577810594</td>\n",
       "      <td>MrZxAlan</td>\n",
       "      <td>1</td>\n",
       "      <td>1</td>\n",
       "      <td>True</td>\n",
       "      <td>2019-12-31</td>\n",
       "    </tr>\n",
       "    <tr>\n",
       "      <th>4</th>\n",
       "      <td>4</td>\n",
       "      <td>Did you hear about the man who was arrested fo...</td>\n",
       "      <td>[removed]</td>\n",
       "      <td>dadjokes</td>\n",
       "      <td>1577810864</td>\n",
       "      <td>Seitanic_Ritual</td>\n",
       "      <td>1</td>\n",
       "      <td>1</td>\n",
       "      <td>True</td>\n",
       "      <td>2019-12-31</td>\n",
       "    </tr>\n",
       "    <tr>\n",
       "      <th>5</th>\n",
       "      <td>5</td>\n",
       "      <td>Don't kiss after midnight</td>\n",
       "      <td>It's not proper to kiss on a first date!</td>\n",
       "      <td>dadjokes</td>\n",
       "      <td>1577811244</td>\n",
       "      <td>itsmrmarlboroman2u</td>\n",
       "      <td>4</td>\n",
       "      <td>2</td>\n",
       "      <td>True</td>\n",
       "      <td>2019-12-31</td>\n",
       "    </tr>\n",
       "    <tr>\n",
       "      <th>6</th>\n",
       "      <td>6</td>\n",
       "      <td>How to make a dad curious right before new year?</td>\n",
       "      <td>I'll tell you next decade.</td>\n",
       "      <td>dadjokes</td>\n",
       "      <td>1577811378</td>\n",
       "      <td>PapaStalinSP</td>\n",
       "      <td>0</td>\n",
       "      <td>1</td>\n",
       "      <td>True</td>\n",
       "      <td>2019-12-31</td>\n",
       "    </tr>\n",
       "    <tr>\n",
       "      <th>7</th>\n",
       "      <td>7</td>\n",
       "      <td>Foresight</td>\n",
       "      <td>is 2020</td>\n",
       "      <td>dadjokes</td>\n",
       "      <td>1577811403</td>\n",
       "      <td>RonWisely</td>\n",
       "      <td>0</td>\n",
       "      <td>2</td>\n",
       "      <td>True</td>\n",
       "      <td>2019-12-31</td>\n",
       "    </tr>\n",
       "    <tr>\n",
       "      <th>8</th>\n",
       "      <td>8</td>\n",
       "      <td>What do you call two monkeys sharing an amazon...</td>\n",
       "      <td>Prime-mates</td>\n",
       "      <td>dadjokes</td>\n",
       "      <td>1577811607</td>\n",
       "      <td>SebastianLi1</td>\n",
       "      <td>1</td>\n",
       "      <td>1</td>\n",
       "      <td>True</td>\n",
       "      <td>2019-12-31</td>\n",
       "    </tr>\n",
       "    <tr>\n",
       "      <th>9</th>\n",
       "      <td>9</td>\n",
       "      <td>Australians can see into the future right now</td>\n",
       "      <td>[removed]</td>\n",
       "      <td>dadjokes</td>\n",
       "      <td>1577811619</td>\n",
       "      <td>FertileProgram</td>\n",
       "      <td>5</td>\n",
       "      <td>1</td>\n",
       "      <td>True</td>\n",
       "      <td>2019-12-31</td>\n",
       "    </tr>\n",
       "  </tbody>\n",
       "</table>\n",
       "</div>"
      ],
      "text/plain": [
       "   Unnamed: 0                                              title  \\\n",
       "0           0                   What happened to this subreddit?   \n",
       "1           1  Here is my Top 10 list of favorite years from ...   \n",
       "2           2                          Don't go outside tonight.   \n",
       "3           3  How do you know that someone is a seascape pai...   \n",
       "4           4  Did you hear about the man who was arrested fo...   \n",
       "5           5                          Don't kiss after midnight   \n",
       "6           6   How to make a dad curious right before new year?   \n",
       "7           7                                          Foresight   \n",
       "8           8  What do you call two monkeys sharing an amazon...   \n",
       "9           9      Australians can see into the future right now   \n",
       "\n",
       "                                            selftext subreddit  created_utc  \\\n",
       "0  I haven’t seen any posts on here since last ye...  dadjokes   1577810202   \n",
       "1  (In chronological order)\\n\\n2010\\n2011\\n2012\\n...  dadjokes   1577810229   \n",
       "2  If you do you won't be back be for the end of ...  dadjokes   1577810264   \n",
       "3                               He uses akrill paint  dadjokes   1577810594   \n",
       "4                                          [removed]  dadjokes   1577810864   \n",
       "5           It's not proper to kiss on a first date!  dadjokes   1577811244   \n",
       "6                         I'll tell you next decade.  dadjokes   1577811378   \n",
       "7                                            is 2020  dadjokes   1577811403   \n",
       "8                                        Prime-mates  dadjokes   1577811607   \n",
       "9                                          [removed]  dadjokes   1577811619   \n",
       "\n",
       "                 author  num_comments  score  is_self   timestamp  \n",
       "0  Thatusernameisntgood             3      1     True  2019-12-31  \n",
       "1               drigana             0      1     True  2019-12-31  \n",
       "2              tvdb2003             0      1     True  2019-12-31  \n",
       "3              MrZxAlan             1      1     True  2019-12-31  \n",
       "4       Seitanic_Ritual             1      1     True  2019-12-31  \n",
       "5    itsmrmarlboroman2u             4      2     True  2019-12-31  \n",
       "6          PapaStalinSP             0      1     True  2019-12-31  \n",
       "7             RonWisely             0      2     True  2019-12-31  \n",
       "8          SebastianLi1             1      1     True  2019-12-31  \n",
       "9        FertileProgram             5      1     True  2019-12-31  "
      ]
     },
     "execution_count": 93,
     "metadata": {},
     "output_type": "execute_result"
    }
   ],
   "source": [
    "query_1.head(10)"
   ]
  },
  {
   "cell_type": "code",
   "execution_count": 94,
   "metadata": {},
   "outputs": [],
   "source": [
    "#is_self , "
   ]
  },
  {
   "cell_type": "code",
   "execution_count": 95,
   "metadata": {},
   "outputs": [
    {
     "data": {
      "text/html": [
       "<div>\n",
       "<style scoped>\n",
       "    .dataframe tbody tr th:only-of-type {\n",
       "        vertical-align: middle;\n",
       "    }\n",
       "\n",
       "    .dataframe tbody tr th {\n",
       "        vertical-align: top;\n",
       "    }\n",
       "\n",
       "    .dataframe thead th {\n",
       "        text-align: right;\n",
       "    }\n",
       "</style>\n",
       "<table border=\"1\" class=\"dataframe\">\n",
       "  <thead>\n",
       "    <tr style=\"text-align: right;\">\n",
       "      <th></th>\n",
       "      <th>Unnamed: 0</th>\n",
       "      <th>title</th>\n",
       "      <th>selftext</th>\n",
       "      <th>subreddit</th>\n",
       "      <th>created_utc</th>\n",
       "      <th>author</th>\n",
       "      <th>num_comments</th>\n",
       "      <th>score</th>\n",
       "      <th>is_self</th>\n",
       "      <th>timestamp</th>\n",
       "    </tr>\n",
       "  </thead>\n",
       "  <tbody>\n",
       "    <tr>\n",
       "      <th>0</th>\n",
       "      <td>0</td>\n",
       "      <td>Visions for the new year</td>\n",
       "      <td>Son: Hey dad! What are your visions for the up...</td>\n",
       "      <td>Jokes</td>\n",
       "      <td>1577810155</td>\n",
       "      <td>SotongBoi</td>\n",
       "      <td>1</td>\n",
       "      <td>1</td>\n",
       "      <td>True</td>\n",
       "      <td>2019-12-31</td>\n",
       "    </tr>\n",
       "    <tr>\n",
       "      <th>1</th>\n",
       "      <td>1</td>\n",
       "      <td>I wrote a book about basements</td>\n",
       "      <td>I am hoping it makes the best cellars list</td>\n",
       "      <td>Jokes</td>\n",
       "      <td>1577810539</td>\n",
       "      <td>Bonsacked</td>\n",
       "      <td>0</td>\n",
       "      <td>3</td>\n",
       "      <td>True</td>\n",
       "      <td>2019-12-31</td>\n",
       "    </tr>\n",
       "    <tr>\n",
       "      <th>2</th>\n",
       "      <td>2</td>\n",
       "      <td>I can see so clearly that my doctor says that ...</td>\n",
       "      <td>My vision is 2020</td>\n",
       "      <td>Jokes</td>\n",
       "      <td>1577810548</td>\n",
       "      <td>SilenceoftheSamz</td>\n",
       "      <td>0</td>\n",
       "      <td>0</td>\n",
       "      <td>True</td>\n",
       "      <td>2019-12-31</td>\n",
       "    </tr>\n",
       "    <tr>\n",
       "      <th>3</th>\n",
       "      <td>3</td>\n",
       "      <td>I was once flying with this guy named Jack..</td>\n",
       "      <td>I greeted him then suddenly everyone got scared.</td>\n",
       "      <td>Jokes</td>\n",
       "      <td>1577810619</td>\n",
       "      <td>ImWasil</td>\n",
       "      <td>0</td>\n",
       "      <td>1</td>\n",
       "      <td>True</td>\n",
       "      <td>2019-12-31</td>\n",
       "    </tr>\n",
       "    <tr>\n",
       "      <th>4</th>\n",
       "      <td>4</td>\n",
       "      <td>I just took my last dump of the year</td>\n",
       "      <td>2019 could end or not, I have no shits left to...</td>\n",
       "      <td>Jokes</td>\n",
       "      <td>1577810740</td>\n",
       "      <td>reverendrambo</td>\n",
       "      <td>0</td>\n",
       "      <td>3</td>\n",
       "      <td>True</td>\n",
       "      <td>2019-12-31</td>\n",
       "    </tr>\n",
       "    <tr>\n",
       "      <th>5</th>\n",
       "      <td>5</td>\n",
       "      <td>Been on earth for 16 years</td>\n",
       "      <td>and I still didn’t find any checkpoints to sav...</td>\n",
       "      <td>Jokes</td>\n",
       "      <td>1577810824</td>\n",
       "      <td>BoBbiSm</td>\n",
       "      <td>5</td>\n",
       "      <td>0</td>\n",
       "      <td>True</td>\n",
       "      <td>2019-12-31</td>\n",
       "    </tr>\n",
       "    <tr>\n",
       "      <th>6</th>\n",
       "      <td>6</td>\n",
       "      <td>Everyone keeps asking me what I will be doing ...</td>\n",
       "      <td>I told them I will be sleeping.\\n\\n&amp;amp;#x200B...</td>\n",
       "      <td>Jokes</td>\n",
       "      <td>1577811027</td>\n",
       "      <td>Stockengineer</td>\n",
       "      <td>0</td>\n",
       "      <td>1</td>\n",
       "      <td>True</td>\n",
       "      <td>2019-12-31</td>\n",
       "    </tr>\n",
       "    <tr>\n",
       "      <th>7</th>\n",
       "      <td>7</td>\n",
       "      <td>I bought a high-def TV today</td>\n",
       "      <td>It’s my new year’s resolution</td>\n",
       "      <td>Jokes</td>\n",
       "      <td>1577811065</td>\n",
       "      <td>NicholasHomann</td>\n",
       "      <td>2</td>\n",
       "      <td>1</td>\n",
       "      <td>True</td>\n",
       "      <td>2019-12-31</td>\n",
       "    </tr>\n",
       "    <tr>\n",
       "      <th>8</th>\n",
       "      <td>8</td>\n",
       "      <td>My friend asked me where I see myself tomorrow</td>\n",
       "      <td>[removed]</td>\n",
       "      <td>Jokes</td>\n",
       "      <td>1577811210</td>\n",
       "      <td>Redditisjusthorrible</td>\n",
       "      <td>0</td>\n",
       "      <td>1</td>\n",
       "      <td>True</td>\n",
       "      <td>2019-12-31</td>\n",
       "    </tr>\n",
       "    <tr>\n",
       "      <th>9</th>\n",
       "      <td>9</td>\n",
       "      <td>Just saw an interview with Meatloafs ex-wife ....</td>\n",
       "      <td>[removed]</td>\n",
       "      <td>Jokes</td>\n",
       "      <td>1577811279</td>\n",
       "      <td>Mycarsold</td>\n",
       "      <td>0</td>\n",
       "      <td>1</td>\n",
       "      <td>True</td>\n",
       "      <td>2019-12-31</td>\n",
       "    </tr>\n",
       "  </tbody>\n",
       "</table>\n",
       "</div>"
      ],
      "text/plain": [
       "   Unnamed: 0                                              title  \\\n",
       "0           0                           Visions for the new year   \n",
       "1           1                     I wrote a book about basements   \n",
       "2           2  I can see so clearly that my doctor says that ...   \n",
       "3           3       I was once flying with this guy named Jack..   \n",
       "4           4               I just took my last dump of the year   \n",
       "5           5                         Been on earth for 16 years   \n",
       "6           6  Everyone keeps asking me what I will be doing ...   \n",
       "7           7                       I bought a high-def TV today   \n",
       "8           8     My friend asked me where I see myself tomorrow   \n",
       "9           9  Just saw an interview with Meatloafs ex-wife ....   \n",
       "\n",
       "                                            selftext subreddit  created_utc  \\\n",
       "0  Son: Hey dad! What are your visions for the up...     Jokes   1577810155   \n",
       "1         I am hoping it makes the best cellars list     Jokes   1577810539   \n",
       "2                                  My vision is 2020     Jokes   1577810548   \n",
       "3   I greeted him then suddenly everyone got scared.     Jokes   1577810619   \n",
       "4  2019 could end or not, I have no shits left to...     Jokes   1577810740   \n",
       "5  and I still didn’t find any checkpoints to sav...     Jokes   1577810824   \n",
       "6  I told them I will be sleeping.\\n\\n&amp;#x200B...     Jokes   1577811027   \n",
       "7                      It’s my new year’s resolution     Jokes   1577811065   \n",
       "8                                          [removed]     Jokes   1577811210   \n",
       "9                                          [removed]     Jokes   1577811279   \n",
       "\n",
       "                 author  num_comments  score  is_self   timestamp  \n",
       "0             SotongBoi             1      1     True  2019-12-31  \n",
       "1             Bonsacked             0      3     True  2019-12-31  \n",
       "2      SilenceoftheSamz             0      0     True  2019-12-31  \n",
       "3               ImWasil             0      1     True  2019-12-31  \n",
       "4         reverendrambo             0      3     True  2019-12-31  \n",
       "5               BoBbiSm             5      0     True  2019-12-31  \n",
       "6         Stockengineer             0      1     True  2019-12-31  \n",
       "7        NicholasHomann             2      1     True  2019-12-31  \n",
       "8  Redditisjusthorrible             0      1     True  2019-12-31  \n",
       "9             Mycarsold             0      1     True  2019-12-31  "
      ]
     },
     "execution_count": 95,
     "metadata": {},
     "output_type": "execute_result"
    }
   ],
   "source": [
    "query_2.head(10)"
   ]
  },
  {
   "cell_type": "code",
   "execution_count": 151,
   "metadata": {},
   "outputs": [
    {
     "data": {
      "text/plain": [
       "'I told them I will be sleeping.\\n\\n&amp;#x200B;\\n\\n In hindsight, it will be 2020.'"
      ]
     },
     "execution_count": 151,
     "metadata": {},
     "output_type": "execute_result"
    }
   ],
   "source": [
    "query_2.loc[6, 'selftext']"
   ]
  },
  {
   "cell_type": "code",
   "execution_count": 96,
   "metadata": {},
   "outputs": [],
   "source": [
    "query_all = query_1.append(query_2, ignore_index=True)"
   ]
  },
  {
   "cell_type": "code",
   "execution_count": 97,
   "metadata": {},
   "outputs": [
    {
     "name": "stdout",
     "output_type": "stream",
     "text": [
      "(2485, 10)\n",
      "(2494, 10)\n",
      "(4979, 10)\n"
     ]
    }
   ],
   "source": [
    "#checks the dataframe size to confirm append\n",
    "print(query_1.shape)\n",
    "print(query_2.shape)\n",
    "print(query_all.shape)"
   ]
  },
  {
   "cell_type": "code",
   "execution_count": 98,
   "metadata": {},
   "outputs": [
    {
     "data": {
      "text/plain": [
       "Unnamed: 0        0\n",
       "title             0\n",
       "selftext        178\n",
       "subreddit         0\n",
       "created_utc       0\n",
       "author            0\n",
       "num_comments      0\n",
       "score             0\n",
       "is_self           0\n",
       "timestamp         0\n",
       "dtype: int64"
      ]
     },
     "execution_count": 98,
     "metadata": {},
     "output_type": "execute_result"
    }
   ],
   "source": [
    "# Check for null values in combined dataframe\n",
    "query_all.isnull().sum()"
   ]
  },
  {
   "cell_type": "code",
   "execution_count": 99,
   "metadata": {},
   "outputs": [],
   "source": [
    "# Replace null texts with empty string\n",
    "query_all.selftext.fillna(value='', inplace=True)"
   ]
  },
  {
   "cell_type": "code",
   "execution_count": 182,
   "metadata": {},
   "outputs": [],
   "source": [
    "\n",
    "# #checking [removed] in our df\n",
    "# (query_all[(query_all['selftext']=='[removed]')]['selftext']).value_counts()\n",
    "# #using applymap lambda replacing [removed] with ' '\n",
    "# query_all=query_all.applymap(lambda x: x.replace('[removed]', ' '))\n",
    "query_all['selftext'] = ['' if post == '[removed]' else post for post in query_all['selftext']]"
   ]
  },
  {
   "cell_type": "code",
   "execution_count": 183,
   "metadata": {},
   "outputs": [],
   "source": [
    "#combine the title and text in the thread to be used as the feature\n",
    "query_all['words'] = query_all['title'] + query_all['selftext']"
   ]
  },
  {
   "cell_type": "code",
   "execution_count": 184,
   "metadata": {},
   "outputs": [
    {
     "data": {
      "text/plain": [
       "0       What happened to this subreddit?I haven’t seen...\n",
       "1       Here is my Top 10 list of favorite years from ...\n",
       "2       Don't go outside tonight.If you do you won't b...\n",
       "3       How do you know that someone is a seascape pai...\n",
       "4       Did you hear about the man who was arrested fo...\n",
       "                              ...                        \n",
       "4974    You're being strapped into the electric chair....\n",
       "4975    I didn’t do very well at school. I was given a...\n",
       "4976    Sometimes I get tired of people calling me \"lo...\n",
       "4977    What do people in Alabama call an orgy?A famil...\n",
       "4978    My friend is a frequent sperm donorGet a load ...\n",
       "Name: words, Length: 4979, dtype: object"
      ]
     },
     "execution_count": 184,
     "metadata": {},
     "output_type": "execute_result"
    }
   ],
   "source": [
    "query_all['words']"
   ]
  },
  {
   "cell_type": "code",
   "execution_count": 103,
   "metadata": {},
   "outputs": [
    {
     "data": {
      "text/plain": [
       "0       dadjokes\n",
       "1       dadjokes\n",
       "2       dadjokes\n",
       "3       dadjokes\n",
       "4       dadjokes\n",
       "          ...   \n",
       "4974       Jokes\n",
       "4975       Jokes\n",
       "4976       Jokes\n",
       "4977       Jokes\n",
       "4978       Jokes\n",
       "Name: subreddit, Length: 4979, dtype: object"
      ]
     },
     "execution_count": 103,
     "metadata": {},
     "output_type": "execute_result"
    }
   ],
   "source": [
    "query_all['subreddit']"
   ]
  },
  {
   "cell_type": "code",
   "execution_count": 104,
   "metadata": {
    "scrolled": true
   },
   "outputs": [
    {
     "data": {
      "text/html": [
       "<div>\n",
       "<style scoped>\n",
       "    .dataframe tbody tr th:only-of-type {\n",
       "        vertical-align: middle;\n",
       "    }\n",
       "\n",
       "    .dataframe tbody tr th {\n",
       "        vertical-align: top;\n",
       "    }\n",
       "\n",
       "    .dataframe thead th {\n",
       "        text-align: right;\n",
       "    }\n",
       "</style>\n",
       "<table border=\"1\" class=\"dataframe\">\n",
       "  <thead>\n",
       "    <tr style=\"text-align: right;\">\n",
       "      <th></th>\n",
       "      <th>title</th>\n",
       "      <th>selftext</th>\n",
       "      <th>words</th>\n",
       "    </tr>\n",
       "  </thead>\n",
       "  <tbody>\n",
       "    <tr>\n",
       "      <th>18</th>\n",
       "      <td>Why do buses stand at the bus stand?</td>\n",
       "      <td>Because they can't sit.</td>\n",
       "      <td>Why do buses stand at the bus stand?Because th...</td>\n",
       "    </tr>\n",
       "  </tbody>\n",
       "</table>\n",
       "</div>"
      ],
      "text/plain": [
       "                                   title                 selftext  \\\n",
       "18  Why do buses stand at the bus stand?  Because they can't sit.   \n",
       "\n",
       "                                                words  \n",
       "18  Why do buses stand at the bus stand?Because th...  "
      ]
     },
     "execution_count": 104,
     "metadata": {},
     "output_type": "execute_result"
    }
   ],
   "source": [
    "query_all[query_all['words'].index == 18][['title','selftext','words']]"
   ]
  },
  {
   "cell_type": "markdown",
   "metadata": {},
   "source": [
    "# Pre-processing"
   ]
  },
  {
   "cell_type": "code",
   "execution_count": 22,
   "metadata": {},
   "outputs": [],
   "source": [
    "lemmatizer = WordNetLemmatizer()"
   ]
  },
  {
   "cell_type": "code",
   "execution_count": 23,
   "metadata": {},
   "outputs": [],
   "source": [
    "# Instantiate Tokenizer\n",
    "tokenizer = RegexpTokenizer(r'\\w+') ## We'll talk about this in a moment."
   ]
  },
  {
   "cell_type": "code",
   "execution_count": 185,
   "metadata": {},
   "outputs": [],
   "source": [
    "# convert the contents in 'words' to lowercase prior to tokenizing\n",
    "query_all.words = query_all.words.str.lower()\n",
    "query_all.words = query_all.words.str.replace('[^A-z ]','').str.replace(' +',' ').str.strip()\n",
    "\n",
    "#query_all['words'] = query_all['words'].apply(nltk.word_tokenize)\n",
    "# # \"Run\" Tokenizer\n",
    "# query_all_tokens = tokenizer.tokenize(query_all.words)"
   ]
  },
  {
   "cell_type": "code",
   "execution_count": 186,
   "metadata": {},
   "outputs": [],
   "source": [
    "def clean_words(words):\n",
    "    # Function to convert a raw review to a string of words\n",
    "    # The input is a single string (a raw movie review), and \n",
    "    # the output is a single string (a preprocessed movie review)\n",
    "    \n",
    "    # 1. Remove HTML.\n",
    "    words_no_html = BeautifulSoup(words).get_text()\n",
    "    \n",
    "    # 2. Remove non-letters.\n",
    "    words_letters = re.sub(\"[^a-zA-Z]\", \" \", words_no_html)\n",
    "    \n",
    "    # 3. Convert to lower case, split into individual words.\n",
    "    words_lower = words_letters.lower().split()\n",
    "    \n",
    "    # 4. In Python, searching a set is much faster than searching\n",
    "    # a list, so convert the stopwords to a set.\n",
    "    stops = set(stopwords.words('english'))\n",
    "    \n",
    "    # 5. Remove stopwords.\n",
    "    words_no_stopwords = [w for w in words_lower if not w in stops]\n",
    "    \n",
    "    # 6. Join the words back into one string separated by space, \n",
    "    # and return the result.\n",
    "    return(\" \".join(words_no_stopwords))"
   ]
  },
  {
   "cell_type": "code",
   "execution_count": 187,
   "metadata": {},
   "outputs": [],
   "source": [
    "# For every row of 'words', apply the above data cleaning function and reassign them back to 'words'\n",
    "query_all['cleaned_words'] = query_all['words'].apply(clean_words)"
   ]
  },
  {
   "cell_type": "code",
   "execution_count": 188,
   "metadata": {},
   "outputs": [
    {
     "data": {
      "text/plain": [
       "0"
      ]
     },
     "execution_count": 188,
     "metadata": {},
     "output_type": "execute_result"
    }
   ],
   "source": [
    "query_all.cleaned_words.isnull().sum()"
   ]
  },
  {
   "cell_type": "code",
   "execution_count": 189,
   "metadata": {},
   "outputs": [
    {
     "data": {
      "text/plain": [
       "0       dadjokes\n",
       "1       dadjokes\n",
       "2       dadjokes\n",
       "3       dadjokes\n",
       "4       dadjokes\n",
       "          ...   \n",
       "4974       Jokes\n",
       "4975       Jokes\n",
       "4976       Jokes\n",
       "4977       Jokes\n",
       "4978       Jokes\n",
       "Name: subreddit, Length: 4979, dtype: object"
      ]
     },
     "execution_count": 189,
     "metadata": {},
     "output_type": "execute_result"
    }
   ],
   "source": [
    "query_all['subreddit']"
   ]
  },
  {
   "cell_type": "code",
   "execution_count": 236,
   "metadata": {},
   "outputs": [],
   "source": [
    "cvec = CountVectorizer(stop_words = 'english', ngram_range=(2,2))\n",
    "cvec_dadjokes = cvec.fit_transform(query_all.loc[query_all['subreddit'] == 'dadjokes','cleaned_words'])\n",
    "cvec_dadjokes_df = pd.DataFrame(cvec_dadjokes.toarray(),\n",
    "                         columns=cvec.get_feature_names())\n",
    "\n",
    "cvec_jokes = cvec.fit_transform(query_all.loc[query_all['subreddit'] == 'Jokes','cleaned_words'])\n",
    "cvec_jokes_df = pd.DataFrame(cvec_jokes.toarray(),\n",
    "                         columns=cvec.get_feature_names())\n",
    "\n",
    "cvec_all = cvec.fit_transform(query_all['cleaned_words'])\n",
    "cvec_all_df = pd.DataFrame(cvec_all.toarray(),\n",
    "                         columns=cvec.get_feature_names())\n",
    "\n",
    "cvec = CountVectorizer(stop_words = 'english', ngram_range=(2,2))\n",
    "cvec_dadjokes = cvec.fit_transform(query_all.loc[query_all['subreddit'] == 'dadjokes','cleaned_words'])\n",
    "cvec_dadjokes_df = pd.DataFrame(cvec_dadjokes.toarray(),\n",
    "                         columns=cvec.get_feature_names())\n",
    "\n",
    "cvec_jokes = cvec.fit_transform(query_all.loc[query_all['subreddit'] == 'Jokes','cleaned_words'])\n",
    "cvec_jokes_df = pd.DataFrame(cvec_jokes.toarray(),\n",
    "                         columns=cvec.get_feature_names())\n",
    "\n",
    "cvec_all = cvec.fit_transform(query_all.loc[query_all['subreddit'].isnull() == False,'cleaned_words'])\n",
    "cvec_all_df = pd.DataFrame(cvec_all.toarray(),\n",
    "                         columns=cvec.get_feature_names())"
   ]
  },
  {
   "cell_type": "code",
   "execution_count": 245,
   "metadata": {},
   "outputs": [
    {
     "data": {
      "image/png": "[encoded data removed]",
      "text/plain": [
       "<Figure size 1152x1152 with 5 Axes>"
      ]
     },
     "metadata": {
      "needs_background": "light"
     },
     "output_type": "display_data"
    }
   ],
   "source": [
    "plt.figure(figsize = (16,16))\n",
    "\n",
    "\n",
    "ax1 = plt.subplot(231)\n",
    "ax1.set_title('Top Frequent Words in Subreddit : dadjokes (single word)')\n",
    "ax1 = cvec_dadjokes_df.sum().sort_values(ascending = False)[cvec_dadjokes_df.sum().sort_values(ascending = False) > 10].plot(kind = 'barh');\n",
    "plt.ylabel(\"2018 SAT Total Score\", fontsize = 10)\n",
    "plt.xlabel(\"2017 SAT Total Score\", fontsize = 10);\n",
    "\n",
    "ax2 = plt.subplot(232)\n",
    "ax2.set_title('Top Frequent Words in Subreddit : jokes (single word)')\n",
    "ax2 = cvec_dadjokes_df.sum().sort_values(ascending = False)[cvec_dadjokes_df.sum().sort_values(ascending = False) > 10].plot(kind = 'barh');\n",
    "plt.ylabel(\"2018 SAT Total Score\", fontsize = 10)\n",
    "plt.xlabel(\"2017 SAT Total Score\", fontsize = 10);\n",
    "\n",
    "ax2 = plt.subplot(233)\n",
    "ax2.set_title('Top Frequent Words in Subreddit : dadjokes & jokes (single word)')\n",
    "ax2 = cvec_all_df.sum().sort_values(ascending = False)[cvec_all_df.sum().sort_values(ascending = False) > 10].plot(kind = 'barh');\n",
    "plt.ylabel(\"2018 SAT Total Score\", fontsize = 10)\n",
    "plt.xlabel(\"2017 SAT Total Score\", fontsize = 10);\n",
    "\n",
    "ax1 = plt.subplot(234)\n",
    "ax1.set_title('Top Frequent Words in Subreddit : dadjokes (two word phrase)')\n",
    "ax1 = cvec_dadjokes_df.sum().sort_values(ascending = False)[cvec_dadjokes_df.sum().sort_values(ascending = False) > 10].plot(kind = 'barh');\n",
    "plt.ylabel(\"2018 SAT Total Score\", fontsize = 10)\n",
    "plt.xlabel(\"2017 SAT Total Score\", fontsize = 10);\n",
    "\n",
    "ax2 = plt.subplot(235)\n",
    "ax2.set_title('Top Frequent Words in Subreddit : jokes (two word phrase)')\n",
    "ax2 = cvec_dadjokes_df.sum().sort_values(ascending = False)[cvec_dadjokes_df.sum().sort_values(ascending = False) > 10].plot(kind = 'barh');\n",
    "plt.ylabel(\"2018 SAT Total Score\", fontsize = 10)\n",
    "plt.xlabel(\"2017 SAT Total Score\", fontsize = 10);\n",
    "\n",
    "plt.text(6,25,'Top Frequent Words in Subreddit',fontsize=20);\n",
    "#cvec_dadjokes_df.sum().sort_values(ascending = False)[cvec_dadjokes_df.sum().sort_values(ascending = False) > 10].plot(kind = 'barh')"
   ]
  },
  {
   "cell_type": "markdown",
   "metadata": {},
   "source": [
    "# Modeling"
   ]
  },
  {
   "cell_type": "code",
   "execution_count": 234,
   "metadata": {},
   "outputs": [],
   "source": [
    "X = query_all['cleaned_words']\n",
    "y = query_all['subreddit']"
   ]
  },
  {
   "cell_type": "code",
   "execution_count": 161,
   "metadata": {},
   "outputs": [],
   "source": [
    "# STRATIFY?\n",
    "#train test split on the combined data (create two copies separately for cvec,tvec)\n",
    "X_train, X_test, y_train, y_test = train_test_split(X,\n",
    "                                                    y,\n",
    "                                                    test_size = 0.33,\n",
    "                                                    random_state = 42)\n"
   ]
  },
  {
   "cell_type": "code",
   "execution_count": 162,
   "metadata": {},
   "outputs": [
    {
     "name": "stdout",
     "output_type": "stream",
     "text": [
      "(3335,)\n",
      "(1644,)\n"
     ]
    }
   ],
   "source": [
    "print(X_train.shape)\n",
    "print(X_test.shape)"
   ]
  },
  {
   "cell_type": "code",
   "execution_count": 163,
   "metadata": {},
   "outputs": [],
   "source": [
    "# Instantiate CountVectorizer, TfidfVectorizer\n",
    "cvec = CountVectorizer()\n",
    "tvec = TfidfVectorizer()\n",
    "\n",
    "\n",
    "# #fit and transform\n",
    "X_train_cvec = cvec.fit_transform(X_train)\n",
    "X_test_cvec = cvec.transform(X_test)\n",
    "\n",
    "X_train_tvec = tvec.fit_transform(X_train)\n",
    "X_test_tvec = tvec.transform(X_test)"
   ]
  },
  {
   "cell_type": "code",
   "execution_count": 164,
   "metadata": {},
   "outputs": [
    {
     "name": "stderr",
     "output_type": "stream",
     "text": [
      "C:\\Users\\YOU-Family\\Anaconda3\\lib\\site-packages\\sklearn\\linear_model\\logistic.py:432: FutureWarning: Default solver will be changed to 'lbfgs' in 0.22. Specify a solver to silence this warning.\n",
      "  FutureWarning)\n"
     ]
    },
    {
     "data": {
      "text/plain": [
       "LogisticRegression(C=1.0, class_weight=None, dual=False, fit_intercept=True,\n",
       "                   intercept_scaling=1, l1_ratio=None, max_iter=100,\n",
       "                   multi_class='warn', n_jobs=None, penalty='l2',\n",
       "                   random_state=None, solver='warn', tol=0.0001, verbose=0,\n",
       "                   warm_start=False)"
      ]
     },
     "execution_count": 164,
     "metadata": {},
     "output_type": "execute_result"
    }
   ],
   "source": [
    "# Fit logistic regression on cvec data\n",
    "logreg = LogisticRegression()\n",
    "logreg.fit(X_train_cvec, y_train)"
   ]
  },
  {
   "cell_type": "code",
   "execution_count": 165,
   "metadata": {},
   "outputs": [
    {
     "data": {
      "text/plain": [
       "0.9556221889055472"
      ]
     },
     "execution_count": 165,
     "metadata": {},
     "output_type": "execute_result"
    }
   ],
   "source": [
    "logreg.score(X_train_cvec, y_train)"
   ]
  },
  {
   "cell_type": "code",
   "execution_count": 166,
   "metadata": {},
   "outputs": [
    {
     "data": {
      "text/plain": [
       "0.6356447688564477"
      ]
     },
     "execution_count": 166,
     "metadata": {},
     "output_type": "execute_result"
    }
   ],
   "source": [
    "logreg.score(X_test_cvec, y_test)"
   ]
  },
  {
   "cell_type": "code",
   "execution_count": 167,
   "metadata": {},
   "outputs": [
    {
     "data": {
      "text/plain": [
       "0.8986506746626687"
      ]
     },
     "execution_count": 167,
     "metadata": {},
     "output_type": "execute_result"
    }
   ],
   "source": [
    "# Fit logistic regression on tvec data\n",
    "logreg = LogisticRegression()\n",
    "logreg.fit(X_train_tvec, y_train)\n",
    "logreg.score(X_train_tvec, y_train)"
   ]
  },
  {
   "cell_type": "code",
   "execution_count": 168,
   "metadata": {},
   "outputs": [
    {
     "data": {
      "text/plain": [
       "0.6240875912408759"
      ]
     },
     "execution_count": 168,
     "metadata": {},
     "output_type": "execute_result"
    }
   ],
   "source": [
    "logreg.score(X_test_tvec, y_test)"
   ]
  },
  {
   "cell_type": "code",
   "execution_count": 140,
   "metadata": {},
   "outputs": [
    {
     "ename": "AttributeError",
     "evalue": "'Series' object has no attribute 'toarray'",
     "output_type": "error",
     "traceback": [
      "\u001b[1;31m---------------------------------------------------------------------------\u001b[0m",
      "\u001b[1;31mAttributeError\u001b[0m                            Traceback (most recent call last)",
      "\u001b[1;32m<ipython-input-140-7b8142af103b>\u001b[0m in \u001b[0;36m<module>\u001b[1;34m\u001b[0m\n\u001b[0;32m      1\u001b[0m \u001b[1;31m# transform the training set\u001b[0m\u001b[1;33m\u001b[0m\u001b[1;33m\u001b[0m\u001b[1;33m\u001b[0m\u001b[0m\n\u001b[0;32m      2\u001b[0m \u001b[0mX_train_cvec\u001b[0m \u001b[1;33m=\u001b[0m \u001b[0mcvec\u001b[0m\u001b[1;33m.\u001b[0m\u001b[0mtransform\u001b[0m\u001b[1;33m(\u001b[0m\u001b[0mX_train\u001b[0m\u001b[1;33m)\u001b[0m\u001b[1;33m\u001b[0m\u001b[1;33m\u001b[0m\u001b[0m\n\u001b[1;32m----> 3\u001b[1;33m X_train_cvec = pd.DataFrame(X_train.toarray(),\n\u001b[0m\u001b[0;32m      4\u001b[0m                          columns=cvec.get_feature_names())\n\u001b[0;32m      5\u001b[0m \u001b[1;33m\u001b[0m\u001b[0m\n",
      "\u001b[1;32m~\\Anaconda3\\lib\\site-packages\\pandas\\core\\generic.py\u001b[0m in \u001b[0;36m__getattr__\u001b[1;34m(self, name)\u001b[0m\n\u001b[0;32m   5177\u001b[0m             \u001b[1;32mif\u001b[0m \u001b[0mself\u001b[0m\u001b[1;33m.\u001b[0m\u001b[0m_info_axis\u001b[0m\u001b[1;33m.\u001b[0m\u001b[0m_can_hold_identifiers_and_holds_name\u001b[0m\u001b[1;33m(\u001b[0m\u001b[0mname\u001b[0m\u001b[1;33m)\u001b[0m\u001b[1;33m:\u001b[0m\u001b[1;33m\u001b[0m\u001b[1;33m\u001b[0m\u001b[0m\n\u001b[0;32m   5178\u001b[0m                 \u001b[1;32mreturn\u001b[0m \u001b[0mself\u001b[0m\u001b[1;33m[\u001b[0m\u001b[0mname\u001b[0m\u001b[1;33m]\u001b[0m\u001b[1;33m\u001b[0m\u001b[1;33m\u001b[0m\u001b[0m\n\u001b[1;32m-> 5179\u001b[1;33m             \u001b[1;32mreturn\u001b[0m \u001b[0mobject\u001b[0m\u001b[1;33m.\u001b[0m\u001b[0m__getattribute__\u001b[0m\u001b[1;33m(\u001b[0m\u001b[0mself\u001b[0m\u001b[1;33m,\u001b[0m \u001b[0mname\u001b[0m\u001b[1;33m)\u001b[0m\u001b[1;33m\u001b[0m\u001b[1;33m\u001b[0m\u001b[0m\n\u001b[0m\u001b[0;32m   5180\u001b[0m \u001b[1;33m\u001b[0m\u001b[0m\n\u001b[0;32m   5181\u001b[0m     \u001b[1;32mdef\u001b[0m \u001b[0m__setattr__\u001b[0m\u001b[1;33m(\u001b[0m\u001b[0mself\u001b[0m\u001b[1;33m,\u001b[0m \u001b[0mname\u001b[0m\u001b[1;33m,\u001b[0m \u001b[0mvalue\u001b[0m\u001b[1;33m)\u001b[0m\u001b[1;33m:\u001b[0m\u001b[1;33m\u001b[0m\u001b[1;33m\u001b[0m\u001b[0m\n",
      "\u001b[1;31mAttributeError\u001b[0m: 'Series' object has no attribute 'toarray'"
     ]
    }
   ],
   "source": [
    "# transform the training set\n",
    "X_train_cvec = cvec.transform(X_train)\n",
    "X_train_cvec = pd.DataFrame(X_train.toarray(),\n",
    "                         columns=cvec.get_feature_names())\n",
    "\n",
    "\n",
    "X_train_tvec = tvec.transform(X_train)\n",
    "X_train_tvec = pd.DataFrame(X_train.toarray(),\n",
    "                         columns=tvec.get_feature_names())\n",
    "\n"
   ]
  },
  {
   "cell_type": "code",
   "execution_count": 73,
   "metadata": {},
   "outputs": [],
   "source": [
    "#Transform the test set\n",
    "\n",
    "X_test_cvec = cvec.transform(X_test_cvec)\n",
    "X_test_cvec = pd.DataFrame(X_test_cvec.toarray(),\n",
    "                         columns=cvec.get_feature_names())\n",
    "\n",
    "X_test_tvec = tvec.transform(X_test_tvec)\n",
    "X_test_tvec = pd.DataFrame(X_test_tvec.toarray(),\n",
    "                         columns=tvec.get_feature_names())\n"
   ]
  },
  {
   "cell_type": "code",
   "execution_count": 170,
   "metadata": {},
   "outputs": [
    {
     "data": {
      "text/plain": [
       "aaaaaaa    0\n",
       "aaaand     0\n",
       "aac        3\n",
       "aaf        0\n",
       "ab         0\n",
       "          ..\n",
       "zoo        3\n",
       "zoomer     0\n",
       "zpgcrsg    0\n",
       "zwuuas     0\n",
       "zy         0\n",
       "Length: 9831, dtype: int64"
      ]
     },
     "execution_count": 170,
     "metadata": {},
     "output_type": "execute_result"
    }
   ],
   "source": [
    "pd.DataFrame(X_test_cvec.toarray(),\n",
    "                         columns=cvec.get_feature_names()).sum()"
   ]
  },
  {
   "cell_type": "code",
   "execution_count": null,
   "metadata": {},
   "outputs": [],
   "source": []
  },
  {
   "cell_type": "code",
   "execution_count": 47,
   "metadata": {},
   "outputs": [
    {
     "name": "stderr",
     "output_type": "stream",
     "text": [
      "C:\\Users\\YOU-Family\\Anaconda3\\lib\\site-packages\\sklearn\\linear_model\\logistic.py:432: FutureWarning: Default solver will be changed to 'lbfgs' in 0.22. Specify a solver to silence this warning.\n",
      "  FutureWarning)\n",
      "C:\\Users\\YOU-Family\\Anaconda3\\lib\\site-packages\\sklearn\\linear_model\\logistic.py:432: FutureWarning: Default solver will be changed to 'lbfgs' in 0.22. Specify a solver to silence this warning.\n",
      "  FutureWarning)\n"
     ]
    },
    {
     "name": "stdout",
     "output_type": "stream",
     "text": [
      "CountVectorizer Training Score: 0.9691154422788606\n",
      "CountVectorizer Testing Score: 0.6210462287104623\n",
      "TfidfVectorizer Training Score: 0.9226386806596701\n",
      "TfidfVectorizer Testing Score: 0.6313868613138686\n"
     ]
    }
   ],
   "source": [
    "# Instantiate logistic regression.\n",
    "lr_cvec = LogisticRegression()\n",
    "lr_tvec = LogisticRegression()\n",
    "\n",
    "# Fit logistic regression.\n",
    "lr_cvec.fit(X_train_cvec, y_train_cvec)\n",
    "lr_tvec.fit(X_train_tvec, y_train_tvec)\n",
    "\n",
    "# Evaluate logistic regression.\n",
    "print(f'CountVectorizer Training Score: {lr_cvec.score(X_train_cvec, y_train_cvec)}')\n",
    "print(f'CountVectorizer Testing Score: {lr_cvec.score(X_test_cvec, y_test_cvec)}')\n",
    "print(f'TfidfVectorizer Training Score: {lr_tvec.score(X_train_tvec, y_train_tvec)}')\n",
    "print(f'TfidfVectorizer Testing Score: {lr_tvec.score(X_test_tvec, y_test_tvec)}')"
   ]
  },
  {
   "cell_type": "code",
   "execution_count": 48,
   "metadata": {},
   "outputs": [],
   "source": [
    "#stop_words = set(stopwords.words('english'))"
   ]
  },
  {
   "cell_type": "code",
   "execution_count": 49,
   "metadata": {},
   "outputs": [
    {
     "ename": "NameError",
     "evalue": "name 'words' is not defined",
     "output_type": "error",
     "traceback": [
      "\u001b[1;31m---------------------------------------------------------------------------\u001b[0m",
      "\u001b[1;31mNameError\u001b[0m                                 Traceback (most recent call last)",
      "\u001b[1;32m<ipython-input-49-900140dab365>\u001b[0m in \u001b[0;36m<module>\u001b[1;34m\u001b[0m\n\u001b[0;32m      1\u001b[0m \u001b[1;31m#create words filtered\u001b[0m\u001b[1;33m\u001b[0m\u001b[1;33m\u001b[0m\u001b[1;33m\u001b[0m\u001b[0m\n\u001b[0;32m      2\u001b[0m \u001b[1;33m\u001b[0m\u001b[0m\n\u001b[1;32m----> 3\u001b[1;33m \u001b[1;32mfor\u001b[0m \u001b[0mw\u001b[0m \u001b[1;32min\u001b[0m \u001b[0mwords\u001b[0m\u001b[1;33m:\u001b[0m\u001b[1;33m\u001b[0m\u001b[1;33m\u001b[0m\u001b[0m\n\u001b[0m\u001b[0;32m      4\u001b[0m     \u001b[1;32mif\u001b[0m \u001b[0mw\u001b[0m \u001b[1;32mnot\u001b[0m \u001b[1;32min\u001b[0m \u001b[0mstopWords\u001b[0m\u001b[1;33m:\u001b[0m\u001b[1;33m\u001b[0m\u001b[1;33m\u001b[0m\u001b[0m\n\u001b[0;32m      5\u001b[0m         \u001b[0mwordsFiltered\u001b[0m\u001b[1;33m.\u001b[0m\u001b[0mappend\u001b[0m\u001b[1;33m(\u001b[0m\u001b[0mw\u001b[0m\u001b[1;33m)\u001b[0m\u001b[1;33m\u001b[0m\u001b[1;33m\u001b[0m\u001b[0m\n",
      "\u001b[1;31mNameError\u001b[0m: name 'words' is not defined"
     ]
    }
   ],
   "source": [
    "# #create words filtered \n",
    "\n",
    "# for w in words:\n",
    "#     if w not in stopWords:\n",
    "#         wordsFiltered.append(w)"
   ]
  },
  {
   "cell_type": "code",
   "execution_count": null,
   "metadata": {},
   "outputs": [],
   "source": [
    "# metrics matrix"
   ]
  }
 ],
 "metadata": {
  "kernelspec": {
   "display_name": "Python 3",
   "language": "python",
   "name": "python3"
  },
  "language_info": {
   "codemirror_mode": {
    "name": "ipython",
    "version": 3
   },
   "file_extension": ".py",
   "mimetype": "text/x-python",
   "name": "python",
   "nbconvert_exporter": "python",
   "pygments_lexer": "ipython3",
   "version": "3.7.4"
  }
 },
 "nbformat": 4,
 "nbformat_minor": 2
}
