{
 "cells": [
  {
   "cell_type": "markdown",
   "metadata": {},
   "source": [
    "# Project 3 : Web APIs & NLP "
   ]
  },
  {
   "cell_type": "markdown",
   "metadata": {},
   "source": [
    "by Sang Cheon"
   ]
  },
  {
   "cell_type": "markdown",
   "metadata": {},
   "source": [
    "# Problem Statement"
   ]
  },
  {
   "cell_type": "markdown",
   "metadata": {},
   "source": [
    "Given a joke from a user, can we use a predictive modeling technique to determine whether a joke is a “dad joke” or a regular “joke” using subreddits r/dadjokes & r/jokes as a basis? Metrics used for determination will be accuracy score.\n"
   ]
  },
  {
   "cell_type": "markdown",
   "metadata": {},
   "source": [
    "# Table of Contents"
   ]
  },
  {
   "cell_type": "markdown",
   "metadata": {},
   "source": [
    "- [Imports](#Imports)\n",
    "- [Pushshift API](#Pushshift-API)\n",
    "- [Preliminary EDA & Data Cleaning](#Preliminary-EDA-&-Data-Cleaning)\n",
    "    - [Imputing Nulls and Missing Values](#Imputing-Nulls-and-Missing-Values)\n",
    "    - [Removing Unneccesary Text](#Removing-Unneccesary-Text)\n",
    "    - [Combine Title & Text columns](#Combine-Title-&-Text-columns)\n",
    "    - [Tokenization](#Tokenization)\n",
    "    - [Lemmatization](#Lemmatization)\n",
    "- [Additional EDA](#Additional-EDA)\n",
    "    - [CountVectorizer](#CountVectorizer)\n",
    "    - [Top Words](#Top-Words)\n",
    "- [EDA Visualizations](#EDA-Visualizations)\n",
    "    - [Venn Diagram (single gram)](#Venn-Diagram-of-single-gram-words)\n",
    "    - [Word Frequency Barchart](#Word-Frequency-Barchart)\n",
    "- [Modeling](#Modeling)\n",
    "    - [Train Test Split](#Train-Test-Split)\n",
    "    - [Baseline Accuracy](#Baseline-Accuracy)\n",
    "    - [Logistic Regression (CountVectorizer)](#Logistic-Regression-(CountVectorizer))\n",
    "    - [Logistic Regression (TfidfVectorizer)](#Logistic-Regression-(TfidfVectorizer))\n",
    "    - [Logistic Regression Evaluation](#Logistic-Regression-Evaluation)\n",
    "    - [GridSearch & Pipeline](#GridSearch-&-Pipeline)\n",
    "    - [Confusion Matrix (cvec pipeline)](#Confusion-Matrix-(cvec-pipeline))\n",
    "    - [Confusion Matrix (tvec pipeline)](#Confusion-Matrix-(tvec-pipeline))   \n",
    "    - [Multinomial Naive Bayes](#Multinomial-Naive-Bayes)\n",
    "    - [Confusion Matrix (mnb)](#Confusion-Matrix-(mnb))    \n",
    "- [Model Evaluation](#Model-Evaluation)\n",
    "    - [Logistic Regression](#Logistic-Regression-Eval)\n",
    "    - [Multinomial Naive Bayes](#Multinomial-Naive-Bayes-Eval)\n",
    "- [Conclusion & Recommendation](#Conclusion-&-Recommendation)\n",
    "\n"
   ]
  },
  {
   "cell_type": "markdown",
   "metadata": {},
   "source": [
    "# Imports"
   ]
  },
  {
   "cell_type": "code",
   "execution_count": 2,
   "metadata": {},
   "outputs": [],
   "source": [
    "import pandas as pd\n",
    "import datetime as dt\n",
    "import seaborn as sns\n",
    "import time\n",
    "import requests\n",
    "from sklearn.model_selection import train_test_split, GridSearchCV\n",
    "from sklearn.pipeline import Pipeline\n",
    "from sklearn.linear_model import LogisticRegression\n",
    "from sklearn.feature_extraction.text import CountVectorizer, TfidfVectorizer\n",
    "import nltk\n",
    "from nltk.corpus import stopwords\n",
    "from nltk.stem import WordNetLemmatizer, PorterStemmer\n",
    "from nltk.tokenize import RegexpTokenizer\n",
    "\n",
    "from bs4 import BeautifulSoup    \n",
    "import re\n",
    "import matplotlib.pyplot as plt\n",
    "#from matplotlib_venn import venn2\n",
    "%matplotlib inline\n",
    "from sklearn.model_selection import cross_val_score\n",
    "from sklearn.naive_bayes import MultinomialNB\n",
    "from sklearn.metrics import confusion_matrix\n"
   ]
  },
  {
   "cell_type": "markdown",
   "metadata": {},
   "source": [
    "# Pushshift API"
   ]
  },
  {
   "cell_type": "code",
   "execution_count": 3,
   "metadata": {},
   "outputs": [],
   "source": [
    "def query_pushshift(subreddit, kind='submission', skip=30, times=5, \n",
    "                    subfield = ['title', 'selftext', 'subreddit', 'created_utc', 'author', 'num_comments', \n",
    "                                'score', 'is_self'],\n",
    "                    comfields = ['body', 'score', 'created_utc']):\n",
    "    stem = \"https://api.pushshift.io/reddit/search/{}/?subreddit={}&size=500\".format(kind, subreddit)\n",
    "    mylist = []\n",
    "    for x in range(1, times + 1):\n",
    "        URL = \"{}&after={}d\".format(stem, skip * x)\n",
    "        print(URL)\n",
    "        response = requests.get(URL)\n",
    "        assert response.status_code == 200\n",
    "        mine = response.json()['data']\n",
    "        df = pd.DataFrame.from_dict(mine)\n",
    "        mylist.append(df)\n",
    "        #changed to 3\n",
    "        time.sleep(3)\n",
    "    full = pd.concat(mylist, sort=False)\n",
    "    if kind == \"submission\":\n",
    "        full = full[subfield]\n",
    "        full = full.drop_duplicates()\n",
    "        full = full.loc[full['is_self'] == True]\n",
    "    def get_date(created):\n",
    "        return dt.date.fromtimestamp(created)\n",
    "    _timestamp = full[\"created_utc\"].apply(get_date)\n",
    "    full['timestamp'] = _timestamp\n",
    "    print(full.shape)\n",
    "    return full "
   ]
  },
  {
   "cell_type": "code",
   "execution_count": 4,
   "metadata": {},
   "outputs": [
    {
     "name": "stdout",
     "output_type": "stream",
     "text": [
      "https://api.pushshift.io/reddit/search/submission/?subreddit=dadjokes&size=500&after=30d\n",
      "https://api.pushshift.io/reddit/search/submission/?subreddit=dadjokes&size=500&after=60d\n",
      "https://api.pushshift.io/reddit/search/submission/?subreddit=dadjokes&size=500&after=90d\n",
      "https://api.pushshift.io/reddit/search/submission/?subreddit=dadjokes&size=500&after=120d\n",
      "https://api.pushshift.io/reddit/search/submission/?subreddit=dadjokes&size=500&after=150d\n",
      "(2476, 9)\n"
     ]
    }
   ],
   "source": [
    "sub_1_query = query_pushshift('dadjokes')"
   ]
  },
  {
   "cell_type": "code",
   "execution_count": 5,
   "metadata": {},
   "outputs": [
    {
     "name": "stdout",
     "output_type": "stream",
     "text": [
      "https://api.pushshift.io/reddit/search/submission/?subreddit=jokes&size=500&after=30d\n",
      "https://api.pushshift.io/reddit/search/submission/?subreddit=jokes&size=500&after=60d\n",
      "https://api.pushshift.io/reddit/search/submission/?subreddit=jokes&size=500&after=90d\n",
      "https://api.pushshift.io/reddit/search/submission/?subreddit=jokes&size=500&after=120d\n",
      "https://api.pushshift.io/reddit/search/submission/?subreddit=jokes&size=500&after=150d\n",
      "(2495, 9)\n"
     ]
    }
   ],
   "source": [
    "sub_2_query = query_pushshift('jokes')"
   ]
  },
  {
   "cell_type": "code",
   "execution_count": 6,
   "metadata": {},
   "outputs": [],
   "source": [
    "# This is a demonmstration of how we would scrape and record our data\n",
    "sub_1_query.to_csv('~/documents/ga/projects/project_3/dataset/dadjokes2', index=True) \n",
    "sub_2_query.to_csv('~/documents/ga/projects/project_3/dataset/jokes2', index=True) \n"
   ]
  },
  {
   "cell_type": "code",
   "execution_count": 7,
   "metadata": {},
   "outputs": [],
   "source": [
    "# We will be using a saved log of dataset in order to prevent new data from being introduced constantly \n",
    "query_1 = pd.read_csv('~/documents/ga/projects/project_3/dataset/dadjokes')\n",
    "query_2 = pd.read_csv('~/documents/ga/projects/project_3/dataset/jokes')"
   ]
  },
  {
   "cell_type": "code",
   "execution_count": 8,
   "metadata": {},
   "outputs": [
    {
     "data": {
      "text/html": [
       "<div>\n",
       "<style scoped>\n",
       "    .dataframe tbody tr th:only-of-type {\n",
       "        vertical-align: middle;\n",
       "    }\n",
       "\n",
       "    .dataframe tbody tr th {\n",
       "        vertical-align: top;\n",
       "    }\n",
       "\n",
       "    .dataframe thead th {\n",
       "        text-align: right;\n",
       "    }\n",
       "</style>\n",
       "<table border=\"1\" class=\"dataframe\">\n",
       "  <thead>\n",
       "    <tr style=\"text-align: right;\">\n",
       "      <th></th>\n",
       "      <th>Unnamed: 0</th>\n",
       "      <th>title</th>\n",
       "      <th>selftext</th>\n",
       "      <th>subreddit</th>\n",
       "      <th>created_utc</th>\n",
       "      <th>author</th>\n",
       "      <th>num_comments</th>\n",
       "      <th>score</th>\n",
       "      <th>is_self</th>\n",
       "      <th>timestamp</th>\n",
       "    </tr>\n",
       "  </thead>\n",
       "  <tbody>\n",
       "    <tr>\n",
       "      <th>0</th>\n",
       "      <td>0</td>\n",
       "      <td>What happened to this subreddit?</td>\n",
       "      <td>I haven’t seen any posts on here since last ye...</td>\n",
       "      <td>dadjokes</td>\n",
       "      <td>1577810202</td>\n",
       "      <td>Thatusernameisntgood</td>\n",
       "      <td>3</td>\n",
       "      <td>1</td>\n",
       "      <td>True</td>\n",
       "      <td>2019-12-31</td>\n",
       "    </tr>\n",
       "    <tr>\n",
       "      <th>1</th>\n",
       "      <td>1</td>\n",
       "      <td>Here is my Top 10 list of favorite years from ...</td>\n",
       "      <td>(In chronological order)\\n\\n2010\\n2011\\n2012\\n...</td>\n",
       "      <td>dadjokes</td>\n",
       "      <td>1577810229</td>\n",
       "      <td>drigana</td>\n",
       "      <td>0</td>\n",
       "      <td>1</td>\n",
       "      <td>True</td>\n",
       "      <td>2019-12-31</td>\n",
       "    </tr>\n",
       "    <tr>\n",
       "      <th>2</th>\n",
       "      <td>2</td>\n",
       "      <td>Don't go outside tonight.</td>\n",
       "      <td>If you do you won't be back be for the end of ...</td>\n",
       "      <td>dadjokes</td>\n",
       "      <td>1577810264</td>\n",
       "      <td>tvdb2003</td>\n",
       "      <td>0</td>\n",
       "      <td>1</td>\n",
       "      <td>True</td>\n",
       "      <td>2019-12-31</td>\n",
       "    </tr>\n",
       "    <tr>\n",
       "      <th>3</th>\n",
       "      <td>3</td>\n",
       "      <td>How do you know that someone is a seascape pai...</td>\n",
       "      <td>He uses akrill paint</td>\n",
       "      <td>dadjokes</td>\n",
       "      <td>1577810594</td>\n",
       "      <td>MrZxAlan</td>\n",
       "      <td>1</td>\n",
       "      <td>1</td>\n",
       "      <td>True</td>\n",
       "      <td>2019-12-31</td>\n",
       "    </tr>\n",
       "    <tr>\n",
       "      <th>4</th>\n",
       "      <td>4</td>\n",
       "      <td>Did you hear about the man who was arrested fo...</td>\n",
       "      <td>[removed]</td>\n",
       "      <td>dadjokes</td>\n",
       "      <td>1577810864</td>\n",
       "      <td>Seitanic_Ritual</td>\n",
       "      <td>1</td>\n",
       "      <td>1</td>\n",
       "      <td>True</td>\n",
       "      <td>2019-12-31</td>\n",
       "    </tr>\n",
       "    <tr>\n",
       "      <th>5</th>\n",
       "      <td>5</td>\n",
       "      <td>Don't kiss after midnight</td>\n",
       "      <td>It's not proper to kiss on a first date!</td>\n",
       "      <td>dadjokes</td>\n",
       "      <td>1577811244</td>\n",
       "      <td>itsmrmarlboroman2u</td>\n",
       "      <td>4</td>\n",
       "      <td>2</td>\n",
       "      <td>True</td>\n",
       "      <td>2019-12-31</td>\n",
       "    </tr>\n",
       "    <tr>\n",
       "      <th>6</th>\n",
       "      <td>6</td>\n",
       "      <td>How to make a dad curious right before new year?</td>\n",
       "      <td>I'll tell you next decade.</td>\n",
       "      <td>dadjokes</td>\n",
       "      <td>1577811378</td>\n",
       "      <td>PapaStalinSP</td>\n",
       "      <td>0</td>\n",
       "      <td>1</td>\n",
       "      <td>True</td>\n",
       "      <td>2019-12-31</td>\n",
       "    </tr>\n",
       "    <tr>\n",
       "      <th>7</th>\n",
       "      <td>7</td>\n",
       "      <td>Foresight</td>\n",
       "      <td>is 2020</td>\n",
       "      <td>dadjokes</td>\n",
       "      <td>1577811403</td>\n",
       "      <td>RonWisely</td>\n",
       "      <td>0</td>\n",
       "      <td>2</td>\n",
       "      <td>True</td>\n",
       "      <td>2019-12-31</td>\n",
       "    </tr>\n",
       "    <tr>\n",
       "      <th>8</th>\n",
       "      <td>8</td>\n",
       "      <td>What do you call two monkeys sharing an amazon...</td>\n",
       "      <td>Prime-mates</td>\n",
       "      <td>dadjokes</td>\n",
       "      <td>1577811607</td>\n",
       "      <td>SebastianLi1</td>\n",
       "      <td>1</td>\n",
       "      <td>1</td>\n",
       "      <td>True</td>\n",
       "      <td>2019-12-31</td>\n",
       "    </tr>\n",
       "    <tr>\n",
       "      <th>9</th>\n",
       "      <td>9</td>\n",
       "      <td>Australians can see into the future right now</td>\n",
       "      <td>[removed]</td>\n",
       "      <td>dadjokes</td>\n",
       "      <td>1577811619</td>\n",
       "      <td>FertileProgram</td>\n",
       "      <td>5</td>\n",
       "      <td>1</td>\n",
       "      <td>True</td>\n",
       "      <td>2019-12-31</td>\n",
       "    </tr>\n",
       "  </tbody>\n",
       "</table>\n",
       "</div>"
      ],
      "text/plain": [
       "   Unnamed: 0                                              title  \\\n",
       "0           0                   What happened to this subreddit?   \n",
       "1           1  Here is my Top 10 list of favorite years from ...   \n",
       "2           2                          Don't go outside tonight.   \n",
       "3           3  How do you know that someone is a seascape pai...   \n",
       "4           4  Did you hear about the man who was arrested fo...   \n",
       "5           5                          Don't kiss after midnight   \n",
       "6           6   How to make a dad curious right before new year?   \n",
       "7           7                                          Foresight   \n",
       "8           8  What do you call two monkeys sharing an amazon...   \n",
       "9           9      Australians can see into the future right now   \n",
       "\n",
       "                                            selftext subreddit  created_utc  \\\n",
       "0  I haven’t seen any posts on here since last ye...  dadjokes   1577810202   \n",
       "1  (In chronological order)\\n\\n2010\\n2011\\n2012\\n...  dadjokes   1577810229   \n",
       "2  If you do you won't be back be for the end of ...  dadjokes   1577810264   \n",
       "3                               He uses akrill paint  dadjokes   1577810594   \n",
       "4                                          [removed]  dadjokes   1577810864   \n",
       "5           It's not proper to kiss on a first date!  dadjokes   1577811244   \n",
       "6                         I'll tell you next decade.  dadjokes   1577811378   \n",
       "7                                            is 2020  dadjokes   1577811403   \n",
       "8                                        Prime-mates  dadjokes   1577811607   \n",
       "9                                          [removed]  dadjokes   1577811619   \n",
       "\n",
       "                 author  num_comments  score  is_self   timestamp  \n",
       "0  Thatusernameisntgood             3      1     True  2019-12-31  \n",
       "1               drigana             0      1     True  2019-12-31  \n",
       "2              tvdb2003             0      1     True  2019-12-31  \n",
       "3              MrZxAlan             1      1     True  2019-12-31  \n",
       "4       Seitanic_Ritual             1      1     True  2019-12-31  \n",
       "5    itsmrmarlboroman2u             4      2     True  2019-12-31  \n",
       "6          PapaStalinSP             0      1     True  2019-12-31  \n",
       "7             RonWisely             0      2     True  2019-12-31  \n",
       "8          SebastianLi1             1      1     True  2019-12-31  \n",
       "9        FertileProgram             5      1     True  2019-12-31  "
      ]
     },
     "execution_count": 8,
     "metadata": {},
     "output_type": "execute_result"
    }
   ],
   "source": [
    "query_1.head(10)"
   ]
  },
  {
   "cell_type": "code",
   "execution_count": 9,
   "metadata": {},
   "outputs": [],
   "source": [
    "#is_self , "
   ]
  },
  {
   "cell_type": "code",
   "execution_count": 10,
   "metadata": {},
   "outputs": [
    {
     "data": {
      "text/html": [
       "<div>\n",
       "<style scoped>\n",
       "    .dataframe tbody tr th:only-of-type {\n",
       "        vertical-align: middle;\n",
       "    }\n",
       "\n",
       "    .dataframe tbody tr th {\n",
       "        vertical-align: top;\n",
       "    }\n",
       "\n",
       "    .dataframe thead th {\n",
       "        text-align: right;\n",
       "    }\n",
       "</style>\n",
       "<table border=\"1\" class=\"dataframe\">\n",
       "  <thead>\n",
       "    <tr style=\"text-align: right;\">\n",
       "      <th></th>\n",
       "      <th>Unnamed: 0</th>\n",
       "      <th>title</th>\n",
       "      <th>selftext</th>\n",
       "      <th>subreddit</th>\n",
       "      <th>created_utc</th>\n",
       "      <th>author</th>\n",
       "      <th>num_comments</th>\n",
       "      <th>score</th>\n",
       "      <th>is_self</th>\n",
       "      <th>timestamp</th>\n",
       "    </tr>\n",
       "  </thead>\n",
       "  <tbody>\n",
       "    <tr>\n",
       "      <th>0</th>\n",
       "      <td>0</td>\n",
       "      <td>Visions for the new year</td>\n",
       "      <td>Son: Hey dad! What are your visions for the up...</td>\n",
       "      <td>Jokes</td>\n",
       "      <td>1577810155</td>\n",
       "      <td>SotongBoi</td>\n",
       "      <td>1</td>\n",
       "      <td>1</td>\n",
       "      <td>True</td>\n",
       "      <td>2019-12-31</td>\n",
       "    </tr>\n",
       "    <tr>\n",
       "      <th>1</th>\n",
       "      <td>1</td>\n",
       "      <td>I wrote a book about basements</td>\n",
       "      <td>I am hoping it makes the best cellars list</td>\n",
       "      <td>Jokes</td>\n",
       "      <td>1577810539</td>\n",
       "      <td>Bonsacked</td>\n",
       "      <td>0</td>\n",
       "      <td>3</td>\n",
       "      <td>True</td>\n",
       "      <td>2019-12-31</td>\n",
       "    </tr>\n",
       "    <tr>\n",
       "      <th>2</th>\n",
       "      <td>2</td>\n",
       "      <td>I can see so clearly that my doctor says that ...</td>\n",
       "      <td>My vision is 2020</td>\n",
       "      <td>Jokes</td>\n",
       "      <td>1577810548</td>\n",
       "      <td>SilenceoftheSamz</td>\n",
       "      <td>0</td>\n",
       "      <td>0</td>\n",
       "      <td>True</td>\n",
       "      <td>2019-12-31</td>\n",
       "    </tr>\n",
       "    <tr>\n",
       "      <th>3</th>\n",
       "      <td>3</td>\n",
       "      <td>I was once flying with this guy named Jack..</td>\n",
       "      <td>I greeted him then suddenly everyone got scared.</td>\n",
       "      <td>Jokes</td>\n",
       "      <td>1577810619</td>\n",
       "      <td>ImWasil</td>\n",
       "      <td>0</td>\n",
       "      <td>1</td>\n",
       "      <td>True</td>\n",
       "      <td>2019-12-31</td>\n",
       "    </tr>\n",
       "    <tr>\n",
       "      <th>4</th>\n",
       "      <td>4</td>\n",
       "      <td>I just took my last dump of the year</td>\n",
       "      <td>2019 could end or not, I have no shits left to...</td>\n",
       "      <td>Jokes</td>\n",
       "      <td>1577810740</td>\n",
       "      <td>reverendrambo</td>\n",
       "      <td>0</td>\n",
       "      <td>3</td>\n",
       "      <td>True</td>\n",
       "      <td>2019-12-31</td>\n",
       "    </tr>\n",
       "    <tr>\n",
       "      <th>5</th>\n",
       "      <td>5</td>\n",
       "      <td>Been on earth for 16 years</td>\n",
       "      <td>and I still didn’t find any checkpoints to sav...</td>\n",
       "      <td>Jokes</td>\n",
       "      <td>1577810824</td>\n",
       "      <td>BoBbiSm</td>\n",
       "      <td>5</td>\n",
       "      <td>0</td>\n",
       "      <td>True</td>\n",
       "      <td>2019-12-31</td>\n",
       "    </tr>\n",
       "    <tr>\n",
       "      <th>6</th>\n",
       "      <td>6</td>\n",
       "      <td>Everyone keeps asking me what I will be doing ...</td>\n",
       "      <td>I told them I will be sleeping.\\n\\n&amp;amp;#x200B...</td>\n",
       "      <td>Jokes</td>\n",
       "      <td>1577811027</td>\n",
       "      <td>Stockengineer</td>\n",
       "      <td>0</td>\n",
       "      <td>1</td>\n",
       "      <td>True</td>\n",
       "      <td>2019-12-31</td>\n",
       "    </tr>\n",
       "    <tr>\n",
       "      <th>7</th>\n",
       "      <td>7</td>\n",
       "      <td>I bought a high-def TV today</td>\n",
       "      <td>It’s my new year’s resolution</td>\n",
       "      <td>Jokes</td>\n",
       "      <td>1577811065</td>\n",
       "      <td>NicholasHomann</td>\n",
       "      <td>2</td>\n",
       "      <td>1</td>\n",
       "      <td>True</td>\n",
       "      <td>2019-12-31</td>\n",
       "    </tr>\n",
       "    <tr>\n",
       "      <th>8</th>\n",
       "      <td>8</td>\n",
       "      <td>My friend asked me where I see myself tomorrow</td>\n",
       "      <td>[removed]</td>\n",
       "      <td>Jokes</td>\n",
       "      <td>1577811210</td>\n",
       "      <td>Redditisjusthorrible</td>\n",
       "      <td>0</td>\n",
       "      <td>1</td>\n",
       "      <td>True</td>\n",
       "      <td>2019-12-31</td>\n",
       "    </tr>\n",
       "    <tr>\n",
       "      <th>9</th>\n",
       "      <td>9</td>\n",
       "      <td>Just saw an interview with Meatloafs ex-wife ....</td>\n",
       "      <td>[removed]</td>\n",
       "      <td>Jokes</td>\n",
       "      <td>1577811279</td>\n",
       "      <td>Mycarsold</td>\n",
       "      <td>0</td>\n",
       "      <td>1</td>\n",
       "      <td>True</td>\n",
       "      <td>2019-12-31</td>\n",
       "    </tr>\n",
       "  </tbody>\n",
       "</table>\n",
       "</div>"
      ],
      "text/plain": [
       "   Unnamed: 0                                              title  \\\n",
       "0           0                           Visions for the new year   \n",
       "1           1                     I wrote a book about basements   \n",
       "2           2  I can see so clearly that my doctor says that ...   \n",
       "3           3       I was once flying with this guy named Jack..   \n",
       "4           4               I just took my last dump of the year   \n",
       "5           5                         Been on earth for 16 years   \n",
       "6           6  Everyone keeps asking me what I will be doing ...   \n",
       "7           7                       I bought a high-def TV today   \n",
       "8           8     My friend asked me where I see myself tomorrow   \n",
       "9           9  Just saw an interview with Meatloafs ex-wife ....   \n",
       "\n",
       "                                            selftext subreddit  created_utc  \\\n",
       "0  Son: Hey dad! What are your visions for the up...     Jokes   1577810155   \n",
       "1         I am hoping it makes the best cellars list     Jokes   1577810539   \n",
       "2                                  My vision is 2020     Jokes   1577810548   \n",
       "3   I greeted him then suddenly everyone got scared.     Jokes   1577810619   \n",
       "4  2019 could end or not, I have no shits left to...     Jokes   1577810740   \n",
       "5  and I still didn’t find any checkpoints to sav...     Jokes   1577810824   \n",
       "6  I told them I will be sleeping.\\n\\n&amp;#x200B...     Jokes   1577811027   \n",
       "7                      It’s my new year’s resolution     Jokes   1577811065   \n",
       "8                                          [removed]     Jokes   1577811210   \n",
       "9                                          [removed]     Jokes   1577811279   \n",
       "\n",
       "                 author  num_comments  score  is_self   timestamp  \n",
       "0             SotongBoi             1      1     True  2019-12-31  \n",
       "1             Bonsacked             0      3     True  2019-12-31  \n",
       "2      SilenceoftheSamz             0      0     True  2019-12-31  \n",
       "3               ImWasil             0      1     True  2019-12-31  \n",
       "4         reverendrambo             0      3     True  2019-12-31  \n",
       "5               BoBbiSm             5      0     True  2019-12-31  \n",
       "6         Stockengineer             0      1     True  2019-12-31  \n",
       "7        NicholasHomann             2      1     True  2019-12-31  \n",
       "8  Redditisjusthorrible             0      1     True  2019-12-31  \n",
       "9             Mycarsold             0      1     True  2019-12-31  "
      ]
     },
     "execution_count": 10,
     "metadata": {},
     "output_type": "execute_result"
    }
   ],
   "source": [
    "query_2.head(10)"
   ]
  },
  {
   "cell_type": "code",
   "execution_count": 11,
   "metadata": {},
   "outputs": [
    {
     "data": {
      "text/plain": [
       "'I told them I will be sleeping.\\n\\n&amp;#x200B;\\n\\n In hindsight, it will be 2020.'"
      ]
     },
     "execution_count": 11,
     "metadata": {},
     "output_type": "execute_result"
    }
   ],
   "source": [
    "query_2.loc[6, 'selftext']"
   ]
  },
  {
   "cell_type": "code",
   "execution_count": 12,
   "metadata": {},
   "outputs": [],
   "source": [
    "query_all = query_1.append(query_2, ignore_index=True)"
   ]
  },
  {
   "cell_type": "code",
   "execution_count": 13,
   "metadata": {},
   "outputs": [
    {
     "name": "stdout",
     "output_type": "stream",
     "text": [
      "(2485, 10)\n",
      "(2494, 10)\n",
      "(4979, 10)\n"
     ]
    }
   ],
   "source": [
    "#checks the dataframe size to confirm append\n",
    "print(query_1.shape)\n",
    "print(query_2.shape)\n",
    "print(query_all.shape)"
   ]
  },
  {
   "cell_type": "markdown",
   "metadata": {},
   "source": [
    "# Preliminary EDA & Data Cleaning"
   ]
  },
  {
   "cell_type": "code",
   "execution_count": 14,
   "metadata": {},
   "outputs": [
    {
     "name": "stdout",
     "output_type": "stream",
     "text": [
      "<class 'pandas.core.frame.DataFrame'>\n",
      "RangeIndex: 4979 entries, 0 to 4978\n",
      "Data columns (total 10 columns):\n",
      "Unnamed: 0      4979 non-null int64\n",
      "title           4979 non-null object\n",
      "selftext        4801 non-null object\n",
      "subreddit       4979 non-null object\n",
      "created_utc     4979 non-null int64\n",
      "author          4979 non-null object\n",
      "num_comments    4979 non-null int64\n",
      "score           4979 non-null int64\n",
      "is_self         4979 non-null bool\n",
      "timestamp       4979 non-null object\n",
      "dtypes: bool(1), int64(4), object(5)\n",
      "memory usage: 355.1+ KB\n"
     ]
    }
   ],
   "source": [
    "query_all.info()"
   ]
  },
  {
   "cell_type": "markdown",
   "metadata": {},
   "source": [
    "### Imputing Nulls and Missing Values"
   ]
  },
  {
   "cell_type": "code",
   "execution_count": 15,
   "metadata": {},
   "outputs": [
    {
     "data": {
      "text/plain": [
       "Unnamed: 0        0\n",
       "title             0\n",
       "selftext        178\n",
       "subreddit         0\n",
       "created_utc       0\n",
       "author            0\n",
       "num_comments      0\n",
       "score             0\n",
       "is_self           0\n",
       "timestamp         0\n",
       "dtype: int64"
      ]
     },
     "execution_count": 15,
     "metadata": {},
     "output_type": "execute_result"
    }
   ],
   "source": [
    "# Check for null values in combined dataframe\n",
    "query_all.isnull().sum()"
   ]
  },
  {
   "cell_type": "code",
   "execution_count": 16,
   "metadata": {},
   "outputs": [],
   "source": [
    "# Replace null texts with empty string\n",
    "query_all.selftext.fillna(value='', inplace=True)"
   ]
  },
  {
   "cell_type": "markdown",
   "metadata": {},
   "source": [
    "### Removing Unneccesary Text"
   ]
  },
  {
   "cell_type": "code",
   "execution_count": 17,
   "metadata": {},
   "outputs": [],
   "source": [
    "# data cleaning process - removing htlm download link texts and [removed]\n",
    "\n",
    "query_all['selftext'] = ['' if post == '[removed]' else post for post in query_all['selftext']]\n",
    "query_all['selftext'] = ['' if post == 'download moviebesteducationpage' else post for post in query_all['selftext']]\n",
    "query_all['selftext'] = ['' if post == 'full moviebesteducationpage' else post for post in query_all['selftext']]\n",
    "query_all['selftext'] = ['' if post == 'download full' else post for post in query_all['selftext']]\n"
   ]
  },
  {
   "cell_type": "markdown",
   "metadata": {},
   "source": [
    "### Combine Title & Text columns "
   ]
  },
  {
   "cell_type": "code",
   "execution_count": 18,
   "metadata": {},
   "outputs": [],
   "source": [
    "#combine the title and text in the thread to be used as the feature\n",
    "query_all['words'] = query_all['title'] + query_all['selftext']"
   ]
  },
  {
   "cell_type": "code",
   "execution_count": 19,
   "metadata": {},
   "outputs": [
    {
     "data": {
      "text/plain": [
       "0       What happened to this subreddit?I haven’t seen...\n",
       "1       Here is my Top 10 list of favorite years from ...\n",
       "2       Don't go outside tonight.If you do you won't b...\n",
       "3       How do you know that someone is a seascape pai...\n",
       "4       Did you hear about the man who was arrested fo...\n",
       "                              ...                        \n",
       "4974    You're being strapped into the electric chair....\n",
       "4975    I didn’t do very well at school. I was given a...\n",
       "4976    Sometimes I get tired of people calling me \"lo...\n",
       "4977    What do people in Alabama call an orgy?A famil...\n",
       "4978    My friend is a frequent sperm donorGet a load ...\n",
       "Name: words, Length: 4979, dtype: object"
      ]
     },
     "execution_count": 19,
     "metadata": {},
     "output_type": "execute_result"
    }
   ],
   "source": [
    "query_all['words']"
   ]
  },
  {
   "cell_type": "code",
   "execution_count": 20,
   "metadata": {},
   "outputs": [],
   "source": [
    "query_all['words'] = ['' if post == 'download moviebesteducationpage' else post for post in query_all['selftext']]\n",
    "query_all['words'] = ['' if post == 'full moviebesteducationpage' else post for post in query_all['selftext']]\n",
    "query_all['words'] = ['' if post == 'download full' else post for post in query_all['selftext']]"
   ]
  },
  {
   "cell_type": "code",
   "execution_count": 21,
   "metadata": {},
   "outputs": [
    {
     "data": {
      "text/plain": [
       "0       dadjokes\n",
       "1       dadjokes\n",
       "2       dadjokes\n",
       "3       dadjokes\n",
       "4       dadjokes\n",
       "          ...   \n",
       "4974       Jokes\n",
       "4975       Jokes\n",
       "4976       Jokes\n",
       "4977       Jokes\n",
       "4978       Jokes\n",
       "Name: subreddit, Length: 4979, dtype: object"
      ]
     },
     "execution_count": 21,
     "metadata": {},
     "output_type": "execute_result"
    }
   ],
   "source": [
    "query_all['subreddit']"
   ]
  },
  {
   "cell_type": "code",
   "execution_count": 22,
   "metadata": {
    "scrolled": true
   },
   "outputs": [
    {
     "data": {
      "text/html": [
       "<div>\n",
       "<style scoped>\n",
       "    .dataframe tbody tr th:only-of-type {\n",
       "        vertical-align: middle;\n",
       "    }\n",
       "\n",
       "    .dataframe tbody tr th {\n",
       "        vertical-align: top;\n",
       "    }\n",
       "\n",
       "    .dataframe thead th {\n",
       "        text-align: right;\n",
       "    }\n",
       "</style>\n",
       "<table border=\"1\" class=\"dataframe\">\n",
       "  <thead>\n",
       "    <tr style=\"text-align: right;\">\n",
       "      <th></th>\n",
       "      <th>title</th>\n",
       "      <th>selftext</th>\n",
       "      <th>words</th>\n",
       "    </tr>\n",
       "  </thead>\n",
       "  <tbody>\n",
       "    <tr>\n",
       "      <th>18</th>\n",
       "      <td>Why do buses stand at the bus stand?</td>\n",
       "      <td>Because they can't sit.</td>\n",
       "      <td>Because they can't sit.</td>\n",
       "    </tr>\n",
       "  </tbody>\n",
       "</table>\n",
       "</div>"
      ],
      "text/plain": [
       "                                   title                 selftext  \\\n",
       "18  Why do buses stand at the bus stand?  Because they can't sit.   \n",
       "\n",
       "                      words  \n",
       "18  Because they can't sit.  "
      ]
     },
     "execution_count": 22,
     "metadata": {},
     "output_type": "execute_result"
    }
   ],
   "source": [
    "query_all[query_all['words'].index == 18][['title','selftext','words']]"
   ]
  },
  {
   "cell_type": "markdown",
   "metadata": {},
   "source": [
    "# Pre-processing"
   ]
  },
  {
   "cell_type": "markdown",
   "metadata": {},
   "source": [
    "### Tokenization "
   ]
  },
  {
   "cell_type": "code",
   "execution_count": 23,
   "metadata": {},
   "outputs": [],
   "source": [
    "def clean_words(words):\n",
    "    # Function to convert a raw text to a string of words\n",
    "    \n",
    "    # 1. Remove HTML.\n",
    "    words_no_html = BeautifulSoup(words).get_text()\n",
    "    \n",
    "    # 2. Remove non-letters.\n",
    "    words_letters = re.sub(\"[^a-zA-Z]\", \" \", words_no_html)\n",
    "    \n",
    "    # 3. Convert to lower case, split into individual words.\n",
    "    words_lower = words_letters.lower().split()\n",
    "    \n",
    "    # 4. In Python, searching a set is much faster than searching\n",
    "    # a list, so convert the stopwords to a set.\n",
    "    stops = set(stopwords.words('english'))\n",
    "    \n",
    "    # 5. Remove stopwords.\n",
    "    words_no_stopwords = [w for w in words_lower if not w in stops]\n",
    "    \n",
    "    # 6. Join the words back into one string separated by space, \n",
    "    # and return the result.\n",
    "    return(\" \".join(words_no_stopwords))"
   ]
  },
  {
   "cell_type": "code",
   "execution_count": 24,
   "metadata": {},
   "outputs": [
    {
     "name": "stderr",
     "output_type": "stream",
     "text": [
      "C:\\Users\\YOU-Family\\Anaconda3\\lib\\site-packages\\bs4\\__init__.py:357: UserWarning: \"https://imgur.com/a/ggw9xpn\" looks like a URL. Beautiful Soup is not an HTTP client. You should probably use an HTTP client like requests to get the document behind the URL, and feed that document to Beautiful Soup.\n",
      "  ' that document to Beautiful Soup.' % decoded_markup\n",
      "C:\\Users\\YOU-Family\\Anaconda3\\lib\\site-packages\\bs4\\__init__.py:357: UserWarning: \"https://babylonbee.com/news/fun-new-greta-on-the-shelf-will-track-your-climate-sins?sfns=mo\" looks like a URL. Beautiful Soup is not an HTTP client. You should probably use an HTTP client like requests to get the document behind the URL, and feed that document to Beautiful Soup.\n",
      "  ' that document to Beautiful Soup.' % decoded_markup\n",
      "C:\\Users\\YOU-Family\\Anaconda3\\lib\\site-packages\\bs4\\__init__.py:357: UserWarning: \"https://www.reddit.com/r/funny/comments/dq6h5t/my_dad_was_so_proud_of_the_feetloaf_he_made_for/?utm_medium=android_app&amp;utm_source=share\" looks like a URL. Beautiful Soup is not an HTTP client. You should probably use an HTTP client like requests to get the document behind the URL, and feed that document to Beautiful Soup.\n",
      "  ' that document to Beautiful Soup.' % decoded_markup\n",
      "C:\\Users\\YOU-Family\\Anaconda3\\lib\\site-packages\\bs4\\__init__.py:357: UserWarning: \"https://en.wikipedia.org/wiki/Category:Rivers_of_Crimea\n",
      "https://www.youtube.com/watch?v=DksSPZTZES0\" looks like a URL. Beautiful Soup is not an HTTP client. You should probably use an HTTP client like requests to get the document behind the URL, and feed that document to Beautiful Soup.\n",
      "  ' that document to Beautiful Soup.' % decoded_markup\n"
     ]
    }
   ],
   "source": [
    "# For every row of 'words', apply the above data cleaning function and reassign them back to 'words'\n",
    "query_all['cleaned_words'] = query_all['words'].apply(clean_words)"
   ]
  },
  {
   "cell_type": "code",
   "execution_count": 25,
   "metadata": {},
   "outputs": [
    {
     "data": {
      "text/plain": [
       "0"
      ]
     },
     "execution_count": 25,
     "metadata": {},
     "output_type": "execute_result"
    }
   ],
   "source": [
    "query_all.cleaned_words.isnull().sum()"
   ]
  },
  {
   "cell_type": "code",
   "execution_count": 26,
   "metadata": {},
   "outputs": [
    {
     "data": {
      "text/plain": [
       "0                        seen posts since last year\n",
       "1                               chronological order\n",
       "2                                   back end decade\n",
       "3                                 uses akrill paint\n",
       "4                                                  \n",
       "                           ...                     \n",
       "4974                             happens next shock\n",
       "4975    also tried poppers streamers got stuck nose\n",
       "4976                                guess shoe fits\n",
       "4977                                 family reunion\n",
       "4978                                   get load guy\n",
       "Name: cleaned_words, Length: 4979, dtype: object"
      ]
     },
     "execution_count": 26,
     "metadata": {},
     "output_type": "execute_result"
    }
   ],
   "source": [
    "query_all['cleaned_words']"
   ]
  },
  {
   "cell_type": "code",
   "execution_count": 27,
   "metadata": {},
   "outputs": [
    {
     "data": {
      "text/plain": [
       "0       dadjokes\n",
       "1       dadjokes\n",
       "2       dadjokes\n",
       "3       dadjokes\n",
       "4       dadjokes\n",
       "          ...   \n",
       "4974       Jokes\n",
       "4975       Jokes\n",
       "4976       Jokes\n",
       "4977       Jokes\n",
       "4978       Jokes\n",
       "Name: subreddit, Length: 4979, dtype: object"
      ]
     },
     "execution_count": 27,
     "metadata": {},
     "output_type": "execute_result"
    }
   ],
   "source": [
    "query_all['subreddit']"
   ]
  },
  {
   "cell_type": "markdown",
   "metadata": {},
   "source": [
    "### Lemmatization"
   ]
  },
  {
   "cell_type": "markdown",
   "metadata": {},
   "source": [
    "This lemmatized wordlist will be stored in a new column 'lemmatized' for later use in the Multinomial NB model."
   ]
  },
  {
   "cell_type": "code",
   "execution_count": 28,
   "metadata": {},
   "outputs": [],
   "source": [
    "def lemmatize(column): \n",
    "\n",
    "    # Instantiate\n",
    "    rt = RegexpTokenizer(r'[A-z]+')\n",
    "    lt = WordNetLemmatizer()\n",
    "    \n",
    "    lemmatized = []\n",
    "    \n",
    "    # Tokenize text\n",
    "    tokens = [rt.tokenize(words.lower()) for words in column]\n",
    "    \n",
    "    # Lemmatize tokens\n",
    "    for word in tokens:\n",
    "        lem_list = [lt.lemmatize(i) for i in word]\n",
    "        \n",
    "        lemmatized.append(lem_list)\n",
    "    \n",
    "    return lemmatized"
   ]
  },
  {
   "cell_type": "code",
   "execution_count": 29,
   "metadata": {},
   "outputs": [],
   "source": [
    "query_all['lemmatized'] = lemmatize(query_all['cleaned_words'])"
   ]
  },
  {
   "cell_type": "markdown",
   "metadata": {},
   "source": [
    "# Additional EDA"
   ]
  },
  {
   "cell_type": "markdown",
   "metadata": {},
   "source": [
    "### CountVectorizer"
   ]
  },
  {
   "cell_type": "code",
   "execution_count": 30,
   "metadata": {},
   "outputs": [],
   "source": [
    "#set CountVectorizer on strictly single gram words for visual EDA use\n",
    "cvec1 = CountVectorizer(stop_words = 'english' , ngram_range=(1,1))\n",
    "\n",
    "cvec1_dadjokes = cvec1.fit_transform(query_all.loc[query_all['subreddit'] == 'dadjokes','cleaned_words'])\n",
    "cvec1_dadjokes_df = pd.DataFrame(cvec1_dadjokes.toarray(),\n",
    "                         columns=cvec1.get_feature_names())\n",
    "\n",
    "cvec1_jokes = cvec1.fit_transform(query_all.loc[query_all['subreddit'] == 'Jokes','cleaned_words'])\n",
    "cvec1_jokes_df = pd.DataFrame(cvec1_jokes.toarray(),\n",
    "                         columns=cvec1.get_feature_names())\n",
    "\n",
    "cvec1_all = cvec1.fit_transform(query_all['cleaned_words'])\n",
    "cvec1_all_df = pd.DataFrame(cvec1_all.toarray(),\n",
    "                         columns=cvec1.get_feature_names())\n",
    "\n",
    "#sum values of the most occuring words in the series\n",
    "top1_dadjokes_df = cvec1_dadjokes_df.sum(axis=0)\n",
    "top1_jokes_df = cvec1_jokes_df.sum(axis=0)\n",
    "top1_all_df = cvec1_all_df.sum(axis=0)"
   ]
  },
  {
   "cell_type": "code",
   "execution_count": 31,
   "metadata": {},
   "outputs": [
    {
     "data": {
      "text/plain": [
       "dad         120\n",
       "said         83\n",
       "like         69\n",
       "know         69\n",
       "abbott       58\n",
       "costello     56\n",
       "got          54\n",
       "man          54\n",
       "says         53\n",
       "year         49\n",
       "make         48\n",
       "time         44\n",
       "going        42\n",
       "really       42\n",
       "good         41\n",
       "say          41\n",
       "right        41\n",
       "bud          39\n",
       "lou          38\n",
       "decade       38\n",
       "dtype: int64"
      ]
     },
     "execution_count": 31,
     "metadata": {},
     "output_type": "execute_result"
    }
   ],
   "source": [
    "#test and check\n",
    "top1_dadjokes_df.sort_values(ascending = False).head(20)\n"
   ]
  },
  {
   "cell_type": "markdown",
   "metadata": {},
   "source": [
    "### Top Words"
   ]
  },
  {
   "cell_type": "code",
   "execution_count": 32,
   "metadata": {},
   "outputs": [],
   "source": [
    "#a new function to automate the conversion of top words in a series into dataframe with word & count\n",
    "\n",
    "def top_words(word_series):\n",
    "    #convert the series int/ a dataframe with the sum values under column name count\n",
    "    word_series = word_series.to_frame(name='count')\n",
    "\n",
    "    #assign the index (in our case the words) into a a new column named 'word'\n",
    "    word_series['word'] = word_series.index\n",
    "\n",
    "    #create new numeric indices in-place of where the orignal 'word' index column was\n",
    "    word_series.reset_index(drop=True, inplace=True)\n",
    "\n",
    "    #sort values by count in descending order and reassign them into the dataframe\n",
    "    word_series.sort_values(by='count',ascending=False, inplace=True)\n",
    "    \n",
    "    #swap the columns to have the word column as the first column after the index\n",
    "    word_series = word_series[['word','count']]\n",
    "\n",
    "    return word_series"
   ]
  },
  {
   "cell_type": "code",
   "execution_count": 33,
   "metadata": {},
   "outputs": [],
   "source": [
    "# apply above function on the results of single gram words series\n",
    "top1_dadjokes_df = top_words(top1_dadjokes_df)\n",
    "top1_jokes_df = top_words(top1_jokes_df)\n",
    "top1_all_df = top_words(top1_all_df)\n"
   ]
  },
  {
   "cell_type": "code",
   "execution_count": 34,
   "metadata": {},
   "outputs": [
    {
     "data": {
      "text/html": [
       "<div>\n",
       "<style scoped>\n",
       "    .dataframe tbody tr th:only-of-type {\n",
       "        vertical-align: middle;\n",
       "    }\n",
       "\n",
       "    .dataframe tbody tr th {\n",
       "        vertical-align: top;\n",
       "    }\n",
       "\n",
       "    .dataframe thead th {\n",
       "        text-align: right;\n",
       "    }\n",
       "</style>\n",
       "<table border=\"1\" class=\"dataframe\">\n",
       "  <thead>\n",
       "    <tr style=\"text-align: right;\">\n",
       "      <th></th>\n",
       "      <th>word</th>\n",
       "      <th>count</th>\n",
       "    </tr>\n",
       "  </thead>\n",
       "  <tbody>\n",
       "    <tr>\n",
       "      <th>6359</th>\n",
       "      <td>says</td>\n",
       "      <td>353</td>\n",
       "    </tr>\n",
       "    <tr>\n",
       "      <th>6307</th>\n",
       "      <td>said</td>\n",
       "      <td>321</td>\n",
       "    </tr>\n",
       "    <tr>\n",
       "      <th>4427</th>\n",
       "      <td>man</td>\n",
       "      <td>285</td>\n",
       "    </tr>\n",
       "    <tr>\n",
       "      <th>4253</th>\n",
       "      <td>like</td>\n",
       "      <td>225</td>\n",
       "    </tr>\n",
       "    <tr>\n",
       "      <th>4064</th>\n",
       "      <td>know</td>\n",
       "      <td>193</td>\n",
       "    </tr>\n",
       "    <tr>\n",
       "      <th>1807</th>\n",
       "      <td>day</td>\n",
       "      <td>174</td>\n",
       "    </tr>\n",
       "    <tr>\n",
       "      <th>1753</th>\n",
       "      <td>dad</td>\n",
       "      <td>165</td>\n",
       "    </tr>\n",
       "    <tr>\n",
       "      <th>3102</th>\n",
       "      <td>got</td>\n",
       "      <td>154</td>\n",
       "    </tr>\n",
       "    <tr>\n",
       "      <th>3228</th>\n",
       "      <td>guy</td>\n",
       "      <td>139</td>\n",
       "    </tr>\n",
       "    <tr>\n",
       "      <th>8340</th>\n",
       "      <td>year</td>\n",
       "      <td>129</td>\n",
       "    </tr>\n",
       "  </tbody>\n",
       "</table>\n",
       "</div>"
      ],
      "text/plain": [
       "      word  count\n",
       "6359  says    353\n",
       "6307  said    321\n",
       "4427   man    285\n",
       "4253  like    225\n",
       "4064  know    193\n",
       "1807   day    174\n",
       "1753   dad    165\n",
       "3102   got    154\n",
       "3228   guy    139\n",
       "8340  year    129"
      ]
     },
     "execution_count": 34,
     "metadata": {},
     "output_type": "execute_result"
    }
   ],
   "source": [
    "#check function results\n",
    "top1_all_df.head(10)"
   ]
  },
  {
   "cell_type": "code",
   "execution_count": 35,
   "metadata": {},
   "outputs": [],
   "source": [
    "#set CountVectorizer on strictly bi-gram words for visual EDA use\n",
    "cvec2 = CountVectorizer(stop_words = 'english' , ngram_range=(2,2))\n",
    "\n",
    "cvec2_dadjokes = cvec2.fit_transform(query_all.loc[query_all['subreddit'] == 'dadjokes','cleaned_words'])\n",
    "cvec2_dadjokes_df = pd.DataFrame(cvec2_dadjokes.toarray(),\n",
    "                         columns=cvec2.get_feature_names())\n",
    "\n",
    "cvec2_jokes = cvec2.fit_transform(query_all.loc[query_all['subreddit'] == 'Jokes','cleaned_words'])\n",
    "cvec2_jokes_df = pd.DataFrame(cvec2_jokes.toarray(),\n",
    "                         columns=cvec2.get_feature_names())\n",
    "\n",
    "cvec2_all = cvec2.fit_transform(query_all['cleaned_words'])\n",
    "cvec2_all_df = pd.DataFrame(cvec2_all.toarray(),\n",
    "                         columns=cvec2.get_feature_names())\n",
    "\n",
    "#sum values of the most occuring words in the series\n",
    "top2_dadjokes_df = cvec2_dadjokes_df.sum(axis=0)\n",
    "top2_jokes_df = cvec2_jokes_df.sum(axis=0)\n",
    "top2_all_df = cvec2_all_df.sum(axis=0)"
   ]
  },
  {
   "cell_type": "code",
   "execution_count": 36,
   "metadata": {},
   "outputs": [],
   "source": [
    "top2_dadjokes_df = top_words(top2_dadjokes_df)\n",
    "top2_jokes_df = top_words(top2_jokes_df)\n",
    "top2_all_df = top_words(top2_all_df)\n"
   ]
  },
  {
   "cell_type": "markdown",
   "metadata": {},
   "source": [
    "# EDA Visualizations"
   ]
  },
  {
   "cell_type": "markdown",
   "metadata": {},
   "source": [
    "### Venn Diagram of single-gram words"
   ]
  },
  {
   "cell_type": "code",
   "execution_count": 37,
   "metadata": {},
   "outputs": [
    {
     "ename": "NameError",
     "evalue": "name 'venn2' is not defined",
     "output_type": "error",
     "traceback": [
      "\u001b[1;31m---------------------------------------------------------------------------\u001b[0m",
      "\u001b[1;31mNameError\u001b[0m                                 Traceback (most recent call last)",
      "\u001b[1;32m<ipython-input-37-d2b68876f5fc>\u001b[0m in \u001b[0;36m<module>\u001b[1;34m\u001b[0m\n\u001b[0;32m      6\u001b[0m \u001b[0mset_b\u001b[0m \u001b[1;33m=\u001b[0m \u001b[0mset\u001b[0m\u001b[1;33m(\u001b[0m\u001b[0mtop1_jokes_df\u001b[0m\u001b[1;33m[\u001b[0m\u001b[1;34m'word'\u001b[0m\u001b[1;33m]\u001b[0m\u001b[1;33m[\u001b[0m\u001b[1;33m:\u001b[0m\u001b[1;36m15\u001b[0m\u001b[1;33m]\u001b[0m\u001b[1;33m)\u001b[0m\u001b[1;33m\u001b[0m\u001b[1;33m\u001b[0m\u001b[0m\n\u001b[0;32m      7\u001b[0m \u001b[1;33m\u001b[0m\u001b[0m\n\u001b[1;32m----> 8\u001b[1;33m \u001b[0mvenn\u001b[0m \u001b[1;33m=\u001b[0m \u001b[0mvenn2\u001b[0m\u001b[1;33m(\u001b[0m\u001b[1;33m[\u001b[0m\u001b[0mset_a\u001b[0m\u001b[1;33m,\u001b[0m\u001b[0mset_b\u001b[0m\u001b[1;33m]\u001b[0m\u001b[1;33m,\u001b[0m\u001b[0mset_labels\u001b[0m\u001b[1;33m=\u001b[0m\u001b[1;33m[\u001b[0m\u001b[1;34m'Dadjokes'\u001b[0m\u001b[1;33m,\u001b[0m\u001b[1;34m'Jokes'\u001b[0m\u001b[1;33m]\u001b[0m\u001b[1;33m)\u001b[0m\u001b[1;33m\u001b[0m\u001b[1;33m\u001b[0m\u001b[0m\n\u001b[0m\u001b[0;32m      9\u001b[0m \u001b[1;33m\u001b[0m\u001b[0m\n\u001b[0;32m     10\u001b[0m \u001b[0mvenn\u001b[0m\u001b[1;33m.\u001b[0m\u001b[0mget_label_by_id\u001b[0m\u001b[1;33m(\u001b[0m\u001b[1;34m'100'\u001b[0m\u001b[1;33m)\u001b[0m\u001b[1;33m.\u001b[0m\u001b[0mset_text\u001b[0m\u001b[1;33m(\u001b[0m\u001b[1;34m'\\n'\u001b[0m\u001b[1;33m.\u001b[0m\u001b[0mjoin\u001b[0m\u001b[1;33m(\u001b[0m\u001b[0mmap\u001b[0m\u001b[1;33m(\u001b[0m\u001b[0mstr\u001b[0m\u001b[1;33m,\u001b[0m\u001b[0mset_a\u001b[0m\u001b[1;33m-\u001b[0m\u001b[0mset_b\u001b[0m\u001b[1;33m)\u001b[0m\u001b[1;33m)\u001b[0m\u001b[1;33m)\u001b[0m\u001b[1;33m\u001b[0m\u001b[1;33m\u001b[0m\u001b[0m\n",
      "\u001b[1;31mNameError\u001b[0m: name 'venn2' is not defined"
     ]
    },
    {
     "data": {
      "image/png": "[encoded data removed]",
      "text/plain": [
       "<Figure size 720x720 with 1 Axes>"
      ]
     },
     "metadata": {
      "needs_background": "light"
     },
     "output_type": "display_data"
    }
   ],
   "source": [
    "# Venn Diagram using the single gram dataframe results source matplotlib-venn documentation\n",
    "plt.figure(figsize=(10,10))\n",
    "plt.title('Word Comparison',fontsize=25)\n",
    "\n",
    "set_a = set(top1_dadjokes_df['word'][:15])\n",
    "set_b = set(top1_jokes_df['word'][:15])\n",
    "\n",
    "venn = venn2([set_a,set_b],set_labels=['Dadjokes','Jokes'])\n",
    "\n",
    "venn.get_label_by_id('100').set_text('\\n'.join(map(str,set_a-set_b)))\n",
    "venn.get_label_by_id('110').set_text('\\n'.join(map(str,set_a&set_b)))\n",
    "venn.get_label_by_id('010').set_text('\\n'.join(map(str,set_b-set_a)))\n",
    "\n",
    "venn.get_label_by_id('A').set_size(20)\n",
    "venn.get_label_by_id('B').set_size(20)\n",
    "venn.get_label_by_id('100').set_size(15)\n",
    "venn.get_label_by_id('110').set_size(15)\n",
    "venn.get_label_by_id('010').set_size(15)\n"
   ]
  },
  {
   "cell_type": "markdown",
   "metadata": {},
   "source": [
    "The Venn Diagram above shows the top 15 words from both subreddits.\n",
    "There are 9 common words that are shown from the venn diagram and we can see that majority of the words are of no clear meaning to our evaluation of dataset (common words that might be considered to be stop-words)"
   ]
  },
  {
   "cell_type": "markdown",
   "metadata": {},
   "source": [
    "### Word Frequency Barchart"
   ]
  },
  {
   "cell_type": "code",
   "execution_count": 38,
   "metadata": {},
   "outputs": [
    {
     "data": {
      "image/png": "[encoded data removed]",
      "text/plain": [
       "<Figure size 2304x1584 with 4 Axes>"
      ]
     },
     "metadata": {
      "needs_background": "light"
     },
     "output_type": "display_data"
    }
   ],
   "source": [
    "plt.figure(figsize = (32,22))\n",
    "\n",
    "sns.set_style(\"whitegrid\")\n",
    "sns.set(font_scale = 2)\n",
    "\n",
    "ax1 = plt.subplot(221)\n",
    "ax1.set_xlabel('count', fontsize=25)\n",
    "ax1.set_ylabel('word', fontsize=25)\n",
    "ax1.set_title('dadjokes (single word)',fontsize = 30)\n",
    "ax1 = sns.barplot(data=top1_dadjokes_df.head(10),x='count',y='word',orient='h')\n",
    "\n",
    "ax2 = plt.subplot(222)\n",
    "ax2.set_xlabel('count', fontsize=25)\n",
    "ax2.set_ylabel('word', fontsize=25)\n",
    "ax2.set_title('jokes (single word)', fontsize = 30)\n",
    "ax2 = sns.barplot(data=top1_jokes_df.head(10),x='count',y='word',orient='h')\n",
    "\n",
    "ax1 = plt.subplot(223)\n",
    "ax1.set_xlabel('count', fontsize=25)\n",
    "ax1.set_ylabel('word', fontsize=25)\n",
    "ax1.set_title('dadjokes (double word)',fontsize = 30)\n",
    "ax1 = sns.barplot(data=top2_dadjokes_df.head(10),x='count',y='word',orient='h')\n",
    "\n",
    "ax2 = plt.subplot(224)\n",
    "ax2.set_xlabel('count', fontsize=25)\n",
    "ax2.set_ylabel('word', fontsize=25)\n",
    "ax2.set_title('jokes (double word)', fontsize = 30)\n",
    "ax2 = sns.barplot(data=top2_jokes_df.head(10),x='count',y='word',orient='h')\n"
   ]
  },
  {
   "cell_type": "markdown",
   "metadata": {},
   "source": [
    "The barcharts above show the most frequent single-gram & bi-gram words that are apparent in the two subreddits 'jokes' & 'dadjokes'.  We can observe that a lot of the words that are commonly used are words that hold no particular value (they are all commonly used words with no specific ties to a topic).  We can also notice that \"lou costello\" & \"bud abbott\" pop up often on the dadjokes side (they are comedians from the 1930s ~ 1950s)"
   ]
  },
  {
   "cell_type": "markdown",
   "metadata": {},
   "source": [
    "# Modeling"
   ]
  },
  {
   "cell_type": "markdown",
   "metadata": {},
   "source": [
    "### Features"
   ]
  },
  {
   "cell_type": "code",
   "execution_count": 39,
   "metadata": {},
   "outputs": [],
   "source": [
    "X = query_all['cleaned_words']\n",
    "y = query_all['subreddit']"
   ]
  },
  {
   "cell_type": "markdown",
   "metadata": {},
   "source": [
    "This lemmatized wordlist will be stored in a new column 'lemmatized' for later use in the Multinomial NB model."
   ]
  },
  {
   "cell_type": "markdown",
   "metadata": {},
   "source": [
    "### Train Test Split"
   ]
  },
  {
   "cell_type": "code",
   "execution_count": 40,
   "metadata": {},
   "outputs": [],
   "source": [
    "#train test split on the combined data\n",
    "X_train, X_test, y_train, y_test = train_test_split(X,\n",
    "                                                    y,\n",
    "                                                    test_size = 0.33,\n",
    "                                                    random_state = 42)\n"
   ]
  },
  {
   "cell_type": "code",
   "execution_count": 41,
   "metadata": {},
   "outputs": [],
   "source": [
    "query_all['lemmatized'] = lemmatize(query_all['cleaned_words'])"
   ]
  },
  {
   "cell_type": "code",
   "execution_count": 42,
   "metadata": {},
   "outputs": [
    {
     "name": "stdout",
     "output_type": "stream",
     "text": [
      "(3335,)\n",
      "(1644,)\n"
     ]
    }
   ],
   "source": [
    "print(X_train.shape)\n",
    "print(X_test.shape)"
   ]
  },
  {
   "cell_type": "markdown",
   "metadata": {},
   "source": [
    "### Baseline Accuracy"
   ]
  },
  {
   "cell_type": "code",
   "execution_count": 43,
   "metadata": {
    "scrolled": true
   },
   "outputs": [
    {
     "name": "stdout",
     "output_type": "stream",
     "text": [
      "dadjokes    0.51764\n",
      "Jokes       0.48236\n",
      "Name: subreddit, dtype: float64\n"
     ]
    }
   ],
   "source": [
    "#baseline accuracy\n",
    "print(y_test.value_counts(normalize=True))"
   ]
  },
  {
   "cell_type": "markdown",
   "metadata": {},
   "source": [
    "Our baseline predicts that our a joke post selected at random has a 52% to be dadjokes which we will compare to our model to see if we can outperform."
   ]
  },
  {
   "cell_type": "markdown",
   "metadata": {},
   "source": [
    "# Logistic Regression (CountVectorizer)"
   ]
  },
  {
   "cell_type": "markdown",
   "metadata": {},
   "source": [
    "### CountVectorizer : n_gram = (1,2)"
   ]
  },
  {
   "cell_type": "code",
   "execution_count": 44,
   "metadata": {},
   "outputs": [],
   "source": [
    "# Instantiate CountVectorizer\n",
    "cvec = CountVectorizer(stop_words = 'english', ngram_range=(1,2))\n",
    "\n",
    "# Fit the vectorizer on our corpus\n",
    "cvec.fit(X_train, y_train)\n",
    "\n",
    "#transform the corpus\n",
    "X_train_cvec = cvec.transform(X_train)\n",
    "\n",
    "X_train_cvec = pd.DataFrame(X_train_cvec.toarray(),\n",
    "                         columns=cvec.get_feature_names())\n",
    "\n",
    "#transform the test corpus\n",
    "\n",
    "X_test_cvec = cvec.transform(X_test)\n",
    "\n",
    "X_test_cvec = pd.DataFrame(X_test_cvec.toarray(),\n",
    "                         columns=cvec.get_feature_names())"
   ]
  },
  {
   "cell_type": "code",
   "execution_count": 45,
   "metadata": {},
   "outputs": [
    {
     "name": "stderr",
     "output_type": "stream",
     "text": [
      "C:\\Users\\YOU-Family\\Anaconda3\\lib\\site-packages\\sklearn\\linear_model\\logistic.py:432: FutureWarning: Default solver will be changed to 'lbfgs' in 0.22. Specify a solver to silence this warning.\n",
      "  FutureWarning)\n"
     ]
    },
    {
     "data": {
      "text/plain": [
       "LogisticRegression(C=1.0, class_weight=None, dual=False, fit_intercept=True,\n",
       "                   intercept_scaling=1, l1_ratio=None, max_iter=100,\n",
       "                   multi_class='warn', n_jobs=None, penalty='l2',\n",
       "                   random_state=None, solver='warn', tol=0.0001, verbose=0,\n",
       "                   warm_start=False)"
      ]
     },
     "execution_count": 45,
     "metadata": {},
     "output_type": "execute_result"
    }
   ],
   "source": [
    "# Fit logistic regression on cvec data\n",
    "logreg_cvec = LogisticRegression()\n",
    "logreg_cvec.fit(X_train_cvec, y_train)"
   ]
  },
  {
   "cell_type": "code",
   "execution_count": 46,
   "metadata": {},
   "outputs": [
    {
     "data": {
      "text/plain": [
       "0.8827586206896552"
      ]
     },
     "execution_count": 46,
     "metadata": {},
     "output_type": "execute_result"
    }
   ],
   "source": [
    "logreg_cvec.score(X_train_cvec, y_train)"
   ]
  },
  {
   "cell_type": "code",
   "execution_count": 47,
   "metadata": {
    "scrolled": true
   },
   "outputs": [
    {
     "data": {
      "text/plain": [
       "0.5851581508515815"
      ]
     },
     "execution_count": 47,
     "metadata": {},
     "output_type": "execute_result"
    }
   ],
   "source": [
    "logreg_cvec.score(X_test_cvec, y_test)"
   ]
  },
  {
   "cell_type": "markdown",
   "metadata": {},
   "source": [
    "Our first iteration of Logstic Regression model using CountVectorizer gives us a training score of 89% and testing score of 58%.  The training score is decent which is based on \"known\" data however, when our model is introduced to a dataset \"unknown\" (testing dataset) it did not perform too well.  Yes, our model performed better than the baseline score of 52% but it seems that both of these scores are not good indicators of an \"exemplary\" model."
   ]
  },
  {
   "cell_type": "markdown",
   "metadata": {},
   "source": [
    "# Logistic Regression (TfidfVectorizer)"
   ]
  },
  {
   "cell_type": "code",
   "execution_count": 48,
   "metadata": {},
   "outputs": [],
   "source": [
    "# Instantiate TfidfVectorizer\n",
    "tvec = TfidfVectorizer(stop_words = 'english', ngram_range=(1,2))\n",
    "\n",
    "# Fit the vectorizer on our corpus\n",
    "tvec.fit(X_train, y_train)\n",
    "\n",
    "#transform the corpus\n",
    "X_train_tvec = tvec.transform(X_train)\n",
    "\n",
    "X_train_tvec = pd.DataFrame(X_train_tvec.toarray(),\n",
    "                         columns=tvec.get_feature_names())\n",
    "\n",
    "#transform the test corpus\n",
    "\n",
    "X_test_tvec = tvec.transform(X_test)\n",
    "\n",
    "X_test_tvec = pd.DataFrame(X_test_tvec.toarray(),\n",
    "                         columns=tvec.get_feature_names())"
   ]
  },
  {
   "cell_type": "code",
   "execution_count": 49,
   "metadata": {},
   "outputs": [
    {
     "name": "stderr",
     "output_type": "stream",
     "text": [
      "C:\\Users\\YOU-Family\\Anaconda3\\lib\\site-packages\\sklearn\\linear_model\\logistic.py:432: FutureWarning: Default solver will be changed to 'lbfgs' in 0.22. Specify a solver to silence this warning.\n",
      "  FutureWarning)\n"
     ]
    },
    {
     "data": {
      "text/plain": [
       "LogisticRegression(C=1.0, class_weight=None, dual=False, fit_intercept=True,\n",
       "                   intercept_scaling=1, l1_ratio=None, max_iter=100,\n",
       "                   multi_class='warn', n_jobs=None, penalty='l2',\n",
       "                   random_state=None, solver='warn', tol=0.0001, verbose=0,\n",
       "                   warm_start=False)"
      ]
     },
     "execution_count": 49,
     "metadata": {},
     "output_type": "execute_result"
    }
   ],
   "source": [
    "# Fit logistic regression on tvec data\n",
    "logreg_tvec = LogisticRegression()\n",
    "logreg_tvec.fit(X_train_tvec, y_train)"
   ]
  },
  {
   "cell_type": "code",
   "execution_count": 50,
   "metadata": {},
   "outputs": [
    {
     "data": {
      "text/plain": [
       "0.870464767616192"
      ]
     },
     "execution_count": 50,
     "metadata": {},
     "output_type": "execute_result"
    }
   ],
   "source": [
    "logreg_tvec.score(X_train_tvec, y_train)"
   ]
  },
  {
   "cell_type": "code",
   "execution_count": 51,
   "metadata": {
    "scrolled": true
   },
   "outputs": [
    {
     "data": {
      "text/plain": [
       "0.5912408759124088"
      ]
     },
     "execution_count": 51,
     "metadata": {},
     "output_type": "execute_result"
    }
   ],
   "source": [
    "logreg_tvec.score(X_test_tvec, y_test)"
   ]
  },
  {
   "cell_type": "markdown",
   "metadata": {},
   "source": [
    "# GridSearch & Pipeline "
   ]
  },
  {
   "cell_type": "code",
   "execution_count": 52,
   "metadata": {},
   "outputs": [],
   "source": [
    "# Setting a pipeline for cvec, tvec\n",
    "\n",
    "pipe_cvec = Pipeline([\n",
    "    ('cvec', CountVectorizer()),\n",
    "    ('logreg_cvec', LogisticRegression(solver = 'liblinear'))\n",
    "])\n",
    "\n",
    "pipe_tvec = Pipeline([\n",
    "    ('tvec', TfidfVectorizer()),\n",
    "    ('logreg_tvec', LogisticRegression(solver = 'liblinear'))\n",
    "])"
   ]
  },
  {
   "cell_type": "code",
   "execution_count": 53,
   "metadata": {},
   "outputs": [
    {
     "name": "stdout",
     "output_type": "stream",
     "text": [
      "Cross Val Score : 0.5673173432451158\n",
      "cvec Pipeline score (train) : 0.8563718140929535\n",
      "cvec Pipeline score (test) : 0.5802919708029197\n"
     ]
    }
   ],
   "source": [
    "#Estimate how your model will perform on unseen data\n",
    "print(f'Cross Val Score : {cross_val_score(pipe_cvec, X_train, y_train, cv=3).mean()}') \n",
    "\n",
    "# Fit your model\n",
    "pipe_cvec.fit(X_train, y_train)\n",
    "\n",
    "# Training score\n",
    "print(f'cvec Pipeline score (train) : {pipe_cvec.score(X_train, y_train)}')\n",
    "\n",
    "# Test score\n",
    "print(f'cvec Pipeline score (test) : {pipe_cvec.score(X_test, y_test)}')"
   ]
  },
  {
   "cell_type": "code",
   "execution_count": 54,
   "metadata": {},
   "outputs": [],
   "source": [
    "pipe_params_cvec = {\n",
    "    'cvec__max_features': [100, 500, 1000, 2000, 5000],\n",
    "    'cvec__stop_words': [None, 'english'],\n",
    "    'cvec__ngram_range': [(1,1), (1,2)]\n",
    "}\n",
    "\n",
    "pipe_params_tvec = {\n",
    "    'tvec__max_features': [100, 500, 1000, 2000, 5000],\n",
    "    'tvec__stop_words': [None, 'english'],\n",
    "    'tvec__ngram_range': [(1,1), (1,2)]\n",
    "}"
   ]
  },
  {
   "cell_type": "code",
   "execution_count": 55,
   "metadata": {},
   "outputs": [],
   "source": [
    "# Instantiate GridSearchCV.\n",
    "\n",
    "#cvec\n",
    "gs_cvec = GridSearchCV(pipe_cvec,\n",
    "                  param_grid=pipe_params_cvec, \n",
    "                  cv=5) # 5-fold cross-validation.\n",
    "\n",
    "#tvec\n",
    "gs_tvec = GridSearchCV(pipe_tvec, \n",
    "                  param_grid=pipe_params_tvec,\n",
    "                  cv=5) # 5-fold cross-validation."
   ]
  },
  {
   "cell_type": "code",
   "execution_count": 56,
   "metadata": {},
   "outputs": [
    {
     "data": {
      "text/plain": [
       "GridSearchCV(cv=5, error_score='raise-deprecating',\n",
       "             estimator=Pipeline(memory=None,\n",
       "                                steps=[('cvec',\n",
       "                                        CountVectorizer(analyzer='word',\n",
       "                                                        binary=False,\n",
       "                                                        decode_error='strict',\n",
       "                                                        dtype=<class 'numpy.int64'>,\n",
       "                                                        encoding='utf-8',\n",
       "                                                        input='content',\n",
       "                                                        lowercase=True,\n",
       "                                                        max_df=1.0,\n",
       "                                                        max_features=None,\n",
       "                                                        min_df=1,\n",
       "                                                        ngram_range=(1, 1),\n",
       "                                                        preprocessor=None,\n",
       "                                                        stop_words=None,\n",
       "                                                        strip_accents=None,\n",
       "                                                        tok...\n",
       "                                                           n_jobs=None,\n",
       "                                                           penalty='l2',\n",
       "                                                           random_state=None,\n",
       "                                                           solver='liblinear',\n",
       "                                                           tol=0.0001,\n",
       "                                                           verbose=0,\n",
       "                                                           warm_start=False))],\n",
       "                                verbose=False),\n",
       "             iid='warn', n_jobs=None,\n",
       "             param_grid={'cvec__max_features': [100, 500, 1000, 2000, 5000],\n",
       "                         'cvec__ngram_range': [(1, 1), (1, 2)],\n",
       "                         'cvec__stop_words': [None, 'english']},\n",
       "             pre_dispatch='2*n_jobs', refit=True, return_train_score=False,\n",
       "             scoring=None, verbose=0)"
      ]
     },
     "execution_count": 56,
     "metadata": {},
     "output_type": "execute_result"
    }
   ],
   "source": [
    "gs_cvec.fit(X_train, y_train)"
   ]
  },
  {
   "cell_type": "code",
   "execution_count": 57,
   "metadata": {},
   "outputs": [
    {
     "name": "stdout",
     "output_type": "stream",
     "text": [
      "gs train score cvec :  0.7916041979010495\n",
      "gs test score cvec :  0.5699513381995134\n"
     ]
    }
   ],
   "source": [
    "#Save best model\n",
    "gs_model_cvec = gs_cvec.best_estimator_\n",
    "# Score model on training set.\n",
    "gs_train_score_cvec = gs_model_cvec.score(X_train, y_train)\n",
    "gs_test_score_cvec = gs_model_cvec.score(X_test, y_test)\n",
    "\n",
    "print(f'gs train score cvec :  {gs_train_score_cvec}')\n",
    "print(f'gs test score cvec :  {gs_test_score_cvec}')"
   ]
  },
  {
   "cell_type": "markdown",
   "metadata": {},
   "source": [
    "## Confusion Matrix (cvec pipeline)"
   ]
  },
  {
   "cell_type": "code",
   "execution_count": 58,
   "metadata": {},
   "outputs": [],
   "source": [
    "y_pred_cvec = gs_model_cvec.predict(X_test)"
   ]
  },
  {
   "cell_type": "code",
   "execution_count": 59,
   "metadata": {},
   "outputs": [],
   "source": [
    "mnb_matrix_cvec = confusion_matrix(y_test,y_pred_cvec)"
   ]
  },
  {
   "cell_type": "code",
   "execution_count": 60,
   "metadata": {},
   "outputs": [
    {
     "data": {
      "text/html": [
       "<div>\n",
       "<style scoped>\n",
       "    .dataframe tbody tr th:only-of-type {\n",
       "        vertical-align: middle;\n",
       "    }\n",
       "\n",
       "    .dataframe tbody tr th {\n",
       "        vertical-align: top;\n",
       "    }\n",
       "\n",
       "    .dataframe thead th {\n",
       "        text-align: right;\n",
       "    }\n",
       "</style>\n",
       "<table border=\"1\" class=\"dataframe\">\n",
       "  <thead>\n",
       "    <tr style=\"text-align: right;\">\n",
       "      <th></th>\n",
       "      <th>Predicted Dadjokes</th>\n",
       "      <th>Predicted Jokes</th>\n",
       "    </tr>\n",
       "  </thead>\n",
       "  <tbody>\n",
       "    <tr>\n",
       "      <th>Actual Dadjokes</th>\n",
       "      <td>328</td>\n",
       "      <td>465</td>\n",
       "    </tr>\n",
       "    <tr>\n",
       "      <th>Actual Jokes</th>\n",
       "      <td>242</td>\n",
       "      <td>609</td>\n",
       "    </tr>\n",
       "  </tbody>\n",
       "</table>\n",
       "</div>"
      ],
      "text/plain": [
       "                 Predicted Dadjokes  Predicted Jokes\n",
       "Actual Dadjokes                 328              465\n",
       "Actual Jokes                    242              609"
      ]
     },
     "execution_count": 60,
     "metadata": {},
     "output_type": "execute_result"
    }
   ],
   "source": [
    "# Create dataframe for the confusion matrix\n",
    "mnb_matrix_df = pd.DataFrame(mnb_matrix_cvec, \n",
    "                         columns = ['Predicted Dadjokes', 'Predicted Jokes'], \n",
    "                         index = ['Actual Dadjokes', 'Actual Jokes'])\n",
    "mnb_matrix_df"
   ]
  },
  {
   "cell_type": "code",
   "execution_count": 61,
   "metadata": {},
   "outputs": [
    {
     "data": {
      "text/plain": [
       "GridSearchCV(cv=5, error_score='raise-deprecating',\n",
       "             estimator=Pipeline(memory=None,\n",
       "                                steps=[('tvec',\n",
       "                                        TfidfVectorizer(analyzer='word',\n",
       "                                                        binary=False,\n",
       "                                                        decode_error='strict',\n",
       "                                                        dtype=<class 'numpy.float64'>,\n",
       "                                                        encoding='utf-8',\n",
       "                                                        input='content',\n",
       "                                                        lowercase=True,\n",
       "                                                        max_df=1.0,\n",
       "                                                        max_features=None,\n",
       "                                                        min_df=1,\n",
       "                                                        ngram_range=(1, 1),\n",
       "                                                        norm='l2',\n",
       "                                                        preprocessor=None,\n",
       "                                                        smooth_idf=True,\n",
       "                                                        stop_words...\n",
       "                                                           n_jobs=None,\n",
       "                                                           penalty='l2',\n",
       "                                                           random_state=None,\n",
       "                                                           solver='liblinear',\n",
       "                                                           tol=0.0001,\n",
       "                                                           verbose=0,\n",
       "                                                           warm_start=False))],\n",
       "                                verbose=False),\n",
       "             iid='warn', n_jobs=None,\n",
       "             param_grid={'tvec__max_features': [100, 500, 1000, 2000, 5000],\n",
       "                         'tvec__ngram_range': [(1, 1), (1, 2)],\n",
       "                         'tvec__stop_words': [None, 'english']},\n",
       "             pre_dispatch='2*n_jobs', refit=True, return_train_score=False,\n",
       "             scoring=None, verbose=0)"
      ]
     },
     "execution_count": 61,
     "metadata": {},
     "output_type": "execute_result"
    }
   ],
   "source": [
    "gs_tvec.fit(X_train, y_train)"
   ]
  },
  {
   "cell_type": "code",
   "execution_count": 62,
   "metadata": {},
   "outputs": [
    {
     "name": "stdout",
     "output_type": "stream",
     "text": [
      "gs train score cvec :  0.7778110944527736\n",
      "gs test score cvec :  0.5736009732360098\n"
     ]
    }
   ],
   "source": [
    "#Save best model\n",
    "gs_model_tvec = gs_tvec.best_estimator_\n",
    "# Score model on training set.\n",
    "gs_train_score_tvec = gs_model_tvec.score(X_train, y_train)\n",
    "gs_test_score_tvec = gs_model_tvec.score(X_test, y_test)\n",
    "\n",
    "print(f'gs train score cvec :  {gs_train_score_tvec}')\n",
    "print(f'gs test score cvec :  {gs_test_score_tvec}')"
   ]
  },
  {
   "cell_type": "markdown",
   "metadata": {},
   "source": [
    "## Confusion Matrix (tvec pipeline)"
   ]
  },
  {
   "cell_type": "code",
   "execution_count": 63,
   "metadata": {},
   "outputs": [],
   "source": [
    "y_pred = gs_model_tvec.predict(X_test)"
   ]
  },
  {
   "cell_type": "code",
   "execution_count": 64,
   "metadata": {},
   "outputs": [],
   "source": [
    "mnb_matrix_tvec = confusion_matrix(y_test,y_pred)"
   ]
  },
  {
   "cell_type": "code",
   "execution_count": 65,
   "metadata": {},
   "outputs": [
    {
     "data": {
      "text/html": [
       "<div>\n",
       "<style scoped>\n",
       "    .dataframe tbody tr th:only-of-type {\n",
       "        vertical-align: middle;\n",
       "    }\n",
       "\n",
       "    .dataframe tbody tr th {\n",
       "        vertical-align: top;\n",
       "    }\n",
       "\n",
       "    .dataframe thead th {\n",
       "        text-align: right;\n",
       "    }\n",
       "</style>\n",
       "<table border=\"1\" class=\"dataframe\">\n",
       "  <thead>\n",
       "    <tr style=\"text-align: right;\">\n",
       "      <th></th>\n",
       "      <th>Predicted Dadjokes</th>\n",
       "      <th>Predicted Jokes</th>\n",
       "    </tr>\n",
       "  </thead>\n",
       "  <tbody>\n",
       "    <tr>\n",
       "      <th>Actual Dadjokes</th>\n",
       "      <td>383</td>\n",
       "      <td>410</td>\n",
       "    </tr>\n",
       "    <tr>\n",
       "      <th>Actual Jokes</th>\n",
       "      <td>291</td>\n",
       "      <td>560</td>\n",
       "    </tr>\n",
       "  </tbody>\n",
       "</table>\n",
       "</div>"
      ],
      "text/plain": [
       "                 Predicted Dadjokes  Predicted Jokes\n",
       "Actual Dadjokes                 383              410\n",
       "Actual Jokes                    291              560"
      ]
     },
     "execution_count": 65,
     "metadata": {},
     "output_type": "execute_result"
    }
   ],
   "source": [
    "# Create dataframe for the confusion matrix\n",
    "mnb_matrix_df = pd.DataFrame(mnb_matrix_tvec, \n",
    "                         columns = ['Predicted Dadjokes', 'Predicted Jokes'], \n",
    "                         index = ['Actual Dadjokes', 'Actual Jokes'])\n",
    "mnb_matrix_df"
   ]
  },
  {
   "cell_type": "markdown",
   "metadata": {},
   "source": [
    "# Multinomial Naive Bayes"
   ]
  },
  {
   "cell_type": "code",
   "execution_count": 66,
   "metadata": {},
   "outputs": [],
   "source": [
    "X = query_all['lemmatized']\n",
    "y = query_all['subreddit']"
   ]
  },
  {
   "cell_type": "code",
   "execution_count": 67,
   "metadata": {},
   "outputs": [
    {
     "data": {
      "text/plain": [
       "MultinomialNB(alpha=1.0, class_prior=None, fit_prior=True)"
      ]
     },
     "execution_count": 67,
     "metadata": {},
     "output_type": "execute_result"
    }
   ],
   "source": [
    "mnb = MultinomialNB()\n",
    "mnb.fit(X_train_cvec, y_train)"
   ]
  },
  {
   "cell_type": "code",
   "execution_count": 68,
   "metadata": {},
   "outputs": [
    {
     "data": {
      "text/plain": [
       "0.8569715142428785"
      ]
     },
     "execution_count": 68,
     "metadata": {},
     "output_type": "execute_result"
    }
   ],
   "source": [
    "# Multinomial Train score\n",
    "mnb.score(X_train_cvec, y_train)"
   ]
  },
  {
   "cell_type": "code",
   "execution_count": 69,
   "metadata": {},
   "outputs": [
    {
     "data": {
      "text/plain": [
       "0.5742092457420924"
      ]
     },
     "execution_count": 69,
     "metadata": {},
     "output_type": "execute_result"
    }
   ],
   "source": [
    "# Multinomial Test score\n",
    "mnb.score(X_test_cvec, y_test)"
   ]
  },
  {
   "cell_type": "markdown",
   "metadata": {},
   "source": [
    "## Confusion Matrix (mnb)"
   ]
  },
  {
   "cell_type": "code",
   "execution_count": 70,
   "metadata": {},
   "outputs": [],
   "source": [
    "y_pred = mnb.predict(X_test_cvec)"
   ]
  },
  {
   "cell_type": "code",
   "execution_count": 71,
   "metadata": {},
   "outputs": [],
   "source": [
    "mnb_matrix = confusion_matrix(y_test,y_pred)"
   ]
  },
  {
   "cell_type": "code",
   "execution_count": 72,
   "metadata": {},
   "outputs": [
    {
     "data": {
      "text/html": [
       "<div>\n",
       "<style scoped>\n",
       "    .dataframe tbody tr th:only-of-type {\n",
       "        vertical-align: middle;\n",
       "    }\n",
       "\n",
       "    .dataframe tbody tr th {\n",
       "        vertical-align: top;\n",
       "    }\n",
       "\n",
       "    .dataframe thead th {\n",
       "        text-align: right;\n",
       "    }\n",
       "</style>\n",
       "<table border=\"1\" class=\"dataframe\">\n",
       "  <thead>\n",
       "    <tr style=\"text-align: right;\">\n",
       "      <th></th>\n",
       "      <th>Predicted Dadjokes</th>\n",
       "      <th>Predicted Jokes</th>\n",
       "    </tr>\n",
       "  </thead>\n",
       "  <tbody>\n",
       "    <tr>\n",
       "      <th>Actual Dadjokes</th>\n",
       "      <td>635</td>\n",
       "      <td>158</td>\n",
       "    </tr>\n",
       "    <tr>\n",
       "      <th>Actual Jokes</th>\n",
       "      <td>542</td>\n",
       "      <td>309</td>\n",
       "    </tr>\n",
       "  </tbody>\n",
       "</table>\n",
       "</div>"
      ],
      "text/plain": [
       "                 Predicted Dadjokes  Predicted Jokes\n",
       "Actual Dadjokes                 635              158\n",
       "Actual Jokes                    542              309"
      ]
     },
     "execution_count": 72,
     "metadata": {},
     "output_type": "execute_result"
    }
   ],
   "source": [
    "# Create dataframe for the confusion matrix\n",
    "mnb_matrix_df = pd.DataFrame(mnb_matrix, \n",
    "                         columns = ['Predicted Dadjokes', 'Predicted Jokes'], \n",
    "                         index = ['Actual Dadjokes', 'Actual Jokes'])\n",
    "mnb_matrix_df"
   ]
  },
  {
   "cell_type": "markdown",
   "metadata": {},
   "source": [
    "## Model Evaluation\n"
   ]
  },
  {
   "cell_type": "markdown",
   "metadata": {},
   "source": [
    "### Logistic Regression Eval"
   ]
  },
  {
   "cell_type": "code",
   "execution_count": 73,
   "metadata": {
    "scrolled": true
   },
   "outputs": [
    {
     "name": "stdout",
     "output_type": "stream",
     "text": [
      "CountVectorizer Training Score: 0.8827586206896552\n",
      "CountVectorizer Testing Score: 0.5851581508515815\n",
      "TfidfVectorizer Training Score: 0.870464767616192\n",
      "TfidfVectorizer Testing Score: 0.5912408759124088\n"
     ]
    }
   ],
   "source": [
    "# Evaluate logistic regression.\n",
    "print(f'CountVectorizer Training Score: {logreg_cvec.score(X_train_cvec, y_train)}')\n",
    "print(f'CountVectorizer Testing Score: {logreg_cvec.score(X_test_cvec, y_test)}')\n",
    "print(f'TfidfVectorizer Training Score: {logreg_tvec.score(X_train_tvec, y_train)}')\n",
    "print(f'TfidfVectorizer Testing Score: {logreg_tvec.score(X_test_tvec, y_test)}')"
   ]
  },
  {
   "cell_type": "markdown",
   "metadata": {},
   "source": [
    "Our first iteration of Logistic Regression model using CountVectorizer gives us a training score of 89% and testing score of 58%.  The training score is decent which is based on \"known\" data however, when our model is introduced to a dataset \"unknown\" (testing dataset) it did not perform too well.  Yes, our model performed better than the baseline score of 52% but it seems that both of these scores are not good indicators of an \"exemplary\" model.\n",
    "\n",
    "Our second iteration of Logistic Regression model using TfidfVectorizer gives us a training score of 88% and testing score of 57%.  This shows that our second interation of Logstic Regression performs slightly worse on both the training and testing dataset (by a margin)."
   ]
  },
  {
   "cell_type": "markdown",
   "metadata": {},
   "source": [
    "### Multinomial Naive Bayes Eval"
   ]
  },
  {
   "cell_type": "code",
   "execution_count": 74,
   "metadata": {},
   "outputs": [
    {
     "name": "stdout",
     "output_type": "stream",
     "text": [
      "Multinomial Naive Bayes Train Score: 0.8569715142428785\n",
      "Multinomial Naive Bayes Test Score: 0.5742092457420924\n"
     ]
    }
   ],
   "source": [
    "# Multinomial Train score\n",
    "print(f'Multinomial Naive Bayes Train Score: {mnb.score(X_train_cvec, y_train)}')\n",
    "print(f'Multinomial Naive Bayes Test Score: {mnb.score(X_test_cvec, y_test)}')"
   ]
  },
  {
   "cell_type": "markdown",
   "metadata": {},
   "source": [
    "Our multinomial naive bayes modeling technique yielded a train/test score of 87%/56% respectively.  We used a multinomial naive bayes modeling technique based on the assumption that there is a conditional independence between every pair of a feature and that our variables are only of positive values (in our case the count of frequency of words).\n",
    "\n",
    "Our results also confirm that our model did not accurately predict which subreddit a testing set 'joke' would be from comparatively to our logistic regression although it is slightly better than our baseline accuracy."
   ]
  },
  {
   "cell_type": "markdown",
   "metadata": {},
   "source": [
    "# Conclusion & Recommendation"
   ]
  },
  {
   "cell_type": "markdown",
   "metadata": {},
   "source": [
    "From using our scraped data from the two subreddits r/dadjokes & r/jokes, we were able to come up with a few models that may determine whether a random post (of a joke) indeed can be classified as a 'dadjoke' or a standard 'joke'.  However, it seems that we were only able to achieve at best a 58% accuracy in determining whether a joke is from 'dadjoke'.  As we've noticed from our EDA, it seems classification of jokes is not as simple due to the nature of the content having no particular framework to base on.  Any joke can be made from any topic as long as it can be interpretted as one by the recipient human perspective.\n",
    "\n",
    "Although our models were able to give it a shot on predicting the difference between 'dadjokes' and 'jokes', we believe that there are too many limitations that can sway our results.  One of the limitations we found is that some joke posts are conversational dialogues such as \"Lou Costello : hello, Bud Abbot : hey\" and so forth which would easily skew the word count versus other jokes.  This is something we can consider and improvise on our model in the future while other limitations such as \"woof woof woof\" (having woof x number of times) should also be considered to better improve our model.  \n",
    "\n",
    "With all things considered, it seems that 'Jokes' are a bit of a general topic that may be hard to legitimately classify.  Using subreddits also may not be the best data source since the activity of users that contribute may not be as reliable."
   ]
  },
  {
   "cell_type": "markdown",
   "metadata": {},
   "source": [
    "### Additionally ..."
   ]
  },
  {
   "cell_type": "markdown",
   "metadata": {},
   "source": [
    "It is unclear how well our model may perform given other subreddits to see whether we can determine the relations of a statement to the subreddit since the use of stopwords and tokenization methods might not align with other subreddits common terms."
   ]
  }
 ],
 "metadata": {
  "kernelspec": {
   "display_name": "Python 3",
   "language": "python",
   "name": "python3"
  },
  "language_info": {
   "codemirror_mode": {
    "name": "ipython",
    "version": 3
   },
   "file_extension": ".py",
   "mimetype": "text/x-python",
   "name": "python",
   "nbconvert_exporter": "python",
   "pygments_lexer": "ipython3",
   "version": "3.7.4"
  }
 },
 "nbformat": 4,
 "nbformat_minor": 2
}
